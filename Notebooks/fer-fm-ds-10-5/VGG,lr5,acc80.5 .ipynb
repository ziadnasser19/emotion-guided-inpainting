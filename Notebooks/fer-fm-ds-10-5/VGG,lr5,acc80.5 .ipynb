{
 "cells": [
  {
   "cell_type": "code",
   "execution_count": 1,
   "id": "4f523eab",
   "metadata": {
    "execution": {
     "iopub.execute_input": "2025-07-18T15:42:21.559067Z",
     "iopub.status.busy": "2025-07-18T15:42:21.558756Z",
     "iopub.status.idle": "2025-07-18T15:42:33.022480Z",
     "shell.execute_reply": "2025-07-18T15:42:33.021918Z"
    },
    "papermill": {
     "duration": 11.469043,
     "end_time": "2025-07-18T15:42:33.023967",
     "exception": false,
     "start_time": "2025-07-18T15:42:21.554924",
     "status": "completed"
    },
    "tags": []
   },
   "outputs": [],
   "source": [
    "import torch\n",
    "import torch.nn as nn\n",
    "import torch.optim as optim\n",
    "from torch.optim.lr_scheduler import ReduceLROnPlateau\n",
    "from torch.utils.data import DataLoader, WeightedRandomSampler, Dataset\n",
    "from torchvision import transforms, models\n",
    "from sklearn.metrics import precision_recall_fscore_support, confusion_matrix, classification_report\n",
    "from tqdm import tqdm\n",
    "import os\n",
    "from PIL import Image\n",
    "import numpy as np\n",
    "import matplotlib.pyplot as plt\n",
    "import seaborn as sns\n",
    "import pandas as pd\n",
    "from torchvision.models import EfficientNet_V2_S_Weights\n",
    "from torchvision.models import resnet18\n"
   ]
  },
  {
   "cell_type": "code",
   "execution_count": 2,
   "id": "90752b40",
   "metadata": {
    "execution": {
     "iopub.execute_input": "2025-07-18T15:42:33.030115Z",
     "iopub.status.busy": "2025-07-18T15:42:33.029817Z",
     "iopub.status.idle": "2025-07-18T15:42:33.037879Z",
     "shell.execute_reply": "2025-07-18T15:42:33.037322Z"
    },
    "papermill": {
     "duration": 0.012072,
     "end_time": "2025-07-18T15:42:33.038952",
     "exception": false,
     "start_time": "2025-07-18T15:42:33.026880",
     "status": "completed"
    },
    "tags": []
   },
   "outputs": [],
   "source": [
    "from torchvision.datasets import ImageFolder\n",
    "from torchvision import transforms\n",
    "from torch.utils.data import DataLoader, WeightedRandomSampler\n",
    "import os\n",
    "\n",
    "class FERPlusImageFolderDataModule:\n",
    "    def __init__(self, root_dir, batch_size=64):\n",
    "        self.train_dir = os.path.join(root_dir, \"train\")\n",
    "        self.test_dir = os.path.join(root_dir, \"test\")\n",
    "        self.batch_size = batch_size\n",
    "        \n",
    "\n",
    "        \n",
    "        self.train_transform = transforms.Compose([\n",
    "            transforms.Resize((48, 48)),\n",
    "            transforms.RandomHorizontalFlip(p=0.5),\n",
    "            transforms.RandomRotation(10),\n",
    "            transforms.Grayscale(num_output_channels=1),\n",
    "            transforms.ToTensor(),\n",
    "            transforms.Normalize(mean=[0.5], std=[0.5])\n",
    "        ])\n",
    "\n",
    "        \n",
    "        self.eval_transform = transforms.Compose([\n",
    "            transforms.Grayscale(num_output_channels=1),  # Ensure grayscale\n",
    "            transforms.Resize((48, 48)),                  # Standard FER size\n",
    "            transforms.ToTensor(),                        # Convert to [0,1] tensor\n",
    "            transforms.Normalize(mean=[0.5], std=[0.5])   # Normalize grayscale\n",
    "        ])\n",
    "\n",
    "    def setup(self):\n",
    "        self.train_dataset = ImageFolder(self.train_dir, transform=self.train_transform)\n",
    "        self.test_dataset = ImageFolder(self.test_dir, transform=self.eval_transform)\n",
    "\n",
    "\n",
    "        print(\"Train class distribution:\")\n",
    "        for cls in self.train_dataset.classes:\n",
    "            count = len([x for x in self.train_dataset.samples if x[1] == self.train_dataset.class_to_idx[cls]])\n",
    "        print(f\"{cls}: {count}\")\n",
    "\n",
    "        \n",
    "        # Split test into val + test manually (optional)\n",
    "        val_size = int(0.5 * len(self.test_dataset))\n",
    "        test_size = len(self.test_dataset) - val_size\n",
    "        self.val_dataset, self.test_dataset = torch.utils.data.random_split(\n",
    "            self.test_dataset, [val_size, test_size], generator=torch.Generator().manual_seed(42)\n",
    "        )\n",
    "    def train_dataloader(self):\n",
    "        return DataLoader(self.train_dataset,batch_size=self.batch_size,shuffle=True,num_workers=4)\n",
    "    \n",
    "    def val_dataloader(self):\n",
    "        return DataLoader(self.val_dataset, batch_size=self.batch_size, shuffle=False, num_workers=2)\n",
    "\n",
    "    def test_dataloader(self):\n",
    "        return DataLoader(self.test_dataset, batch_size=self.batch_size, shuffle=False, num_workers=2)\n"
   ]
  },
  {
   "cell_type": "code",
   "execution_count": 3,
   "id": "fe58974a",
   "metadata": {
    "_cell_guid": "b1076dfc-b9ad-4769-8c92-a6c4dae69d19",
    "_uuid": "8f2839f25d086af736a60e9eeb907d3b93b6e0e5",
    "execution": {
     "iopub.execute_input": "2025-07-18T15:42:33.043952Z",
     "iopub.status.busy": "2025-07-18T15:42:33.043752Z",
     "iopub.status.idle": "2025-07-18T15:42:33.048001Z",
     "shell.execute_reply": "2025-07-18T15:42:33.047472Z"
    },
    "papermill": {
     "duration": 0.007922,
     "end_time": "2025-07-18T15:42:33.048996",
     "exception": false,
     "start_time": "2025-07-18T15:42:33.041074",
     "status": "completed"
    },
    "tags": []
   },
   "outputs": [],
   "source": [
    "class EmotionDetectorResNet18(nn.Module):\n",
    "    def __init__(self, num_classes=8):\n",
    "        super(EmotionDetectorResNet18, self).__init__()\n",
    "        self.model = resnet18(weights='IMAGENET1K_V1')  # Pretrained weights\n",
    "\n",
    "        # Modify for grayscale input\n",
    "        self.model.conv1 = nn.Conv2d(1, 64, kernel_size=7, stride=2, padding=3, bias=False)\n",
    "\n",
    "        # Replace final classifier\n",
    "        self.model.fc = nn.Sequential(\n",
    "            nn.Dropout(p=0.2),\n",
    "            nn.Linear(self.model.fc.in_features, num_classes)\n",
    "        )\n",
    "\n",
    "    def forward(self, x):\n",
    "        return self.model(x)"
   ]
  },
  {
   "cell_type": "code",
   "execution_count": 4,
   "id": "57c27896",
   "metadata": {
    "execution": {
     "iopub.execute_input": "2025-07-18T15:42:33.054474Z",
     "iopub.status.busy": "2025-07-18T15:42:33.053932Z",
     "iopub.status.idle": "2025-07-18T15:42:33.058679Z",
     "shell.execute_reply": "2025-07-18T15:42:33.058037Z"
    },
    "papermill": {
     "duration": 0.008649,
     "end_time": "2025-07-18T15:42:33.059804",
     "exception": false,
     "start_time": "2025-07-18T15:42:33.051155",
     "status": "completed"
    },
    "tags": []
   },
   "outputs": [],
   "source": [
    "class EmotionDetectorMobileNetV2(nn.Module):\n",
    "    def __init__(self, num_classes=8):\n",
    "        super(EmotionDetectorMobileNetV2, self).__init__()\n",
    "        self.model = models.mobilenet_v2(pretrained=True)  # Using MobileNetV2 as base model\n",
    "\n",
    "        self.model.features[0][0] = nn.Conv2d(1, 32, kernel_size=3, stride=2, padding=1, bias=False)\n",
    "        # Modify the classifier to match our problem\n",
    "        self.model.classifier[1] = nn.Sequential(\n",
    "            nn.Dropout(p=0.7),  # Increased dropout to 50%\n",
    "            nn.Linear(self.model.classifier[1].in_features, num_classes)\n",
    "        )\n",
    "\n",
    "    def forward(self, x):\n",
    "        return self.model(x)"
   ]
  },
  {
   "cell_type": "code",
   "execution_count": 5,
   "id": "55ac1796",
   "metadata": {
    "execution": {
     "iopub.execute_input": "2025-07-18T15:42:33.065000Z",
     "iopub.status.busy": "2025-07-18T15:42:33.064476Z",
     "iopub.status.idle": "2025-07-18T15:42:33.069080Z",
     "shell.execute_reply": "2025-07-18T15:42:33.068419Z"
    },
    "papermill": {
     "duration": 0.00831,
     "end_time": "2025-07-18T15:42:33.070201",
     "exception": false,
     "start_time": "2025-07-18T15:42:33.061891",
     "status": "completed"
    },
    "tags": []
   },
   "outputs": [],
   "source": [
    "from torchvision.models import efficientnet_v2_s\n",
    "\n",
    "class EmotionDetectorEffNet(nn.Module):\n",
    "    def __init__(self, num_classes=8):\n",
    "        super(EmotionDetectorEffNet, self).__init__()\n",
    "        self.model = efficientnet_v2_s(weights=EfficientNet_V2_S_Weights.DEFAULT)  # Use pre-trained weights\n",
    "        self.model.features[0][0] = nn.Conv2d(1, 24, kernel_size=3, stride=2, padding=1, bias=False)\n",
    "        self.model.classifier[1] = nn.Sequential(\n",
    "            nn.Dropout(p=0.2),\n",
    "            nn.Linear(self.model.classifier[1].in_features, num_classes)\n",
    "        )\n",
    "\n",
    "    def forward(self, x):\n",
    "        return self.model(x)\n"
   ]
  },
  {
   "cell_type": "code",
   "execution_count": 6,
   "id": "a9b3ed6c",
   "metadata": {
    "execution": {
     "iopub.execute_input": "2025-07-18T15:42:33.075400Z",
     "iopub.status.busy": "2025-07-18T15:42:33.074921Z",
     "iopub.status.idle": "2025-07-18T15:42:33.080921Z",
     "shell.execute_reply": "2025-07-18T15:42:33.080267Z"
    },
    "papermill": {
     "duration": 0.00971,
     "end_time": "2025-07-18T15:42:33.082000",
     "exception": false,
     "start_time": "2025-07-18T15:42:33.072290",
     "status": "completed"
    },
    "tags": []
   },
   "outputs": [],
   "source": [
    "import torch\n",
    "import torch.nn as nn\n",
    "from torchvision import models\n",
    "\n",
    "class EmotionDetectorVGGFace(nn.Module):\n",
    "    def __init__(self, num_classes=7):\n",
    "        super(EmotionDetectorVGGFace, self).__init__()\n",
    "\n",
    "        # Load pretrained VGG16\n",
    "        self.model = models.vgg16(pretrained=True)\n",
    "\n",
    "        # --- Method 2: Convert first conv layer to accept grayscale by averaging RGB weights ---\n",
    "        with torch.no_grad():\n",
    "            orig_weights = self.model.features[0].weight.data  # Shape: [64, 3, 3, 3]\n",
    "            gray_weights = orig_weights.mean(dim=1, keepdim=True)  # Shape: [64, 1, 3, 3]\n",
    "\n",
    "        new_conv = nn.Conv2d(1, 64, kernel_size=3, padding=1)\n",
    "        new_conv.weight.data = gray_weights\n",
    "        if self.model.features[0].bias is not None:\n",
    "            new_conv.bias.data.zero_()\n",
    "        self.model.features[0] = new_conv\n",
    "\n",
    "        # --- Scenario 2: Fine-tune the entire model ---\n",
    "        for param in self.model.parameters():\n",
    "            param.requires_grad = True\n",
    "\n",
    "        # --- Keep original VGG classifier, change only the final output layer ---\n",
    "        self.model.classifier = nn.Sequential(\n",
    "            nn.Linear(25088, 4096),\n",
    "            nn.ReLU(inplace=True),\n",
    "            nn.Dropout(0.5),\n",
    "            nn.Linear(4096, 4096),\n",
    "            nn.ReLU(inplace=True),\n",
    "            nn.Dropout(0.5),\n",
    "            nn.Linear(4096, num_classes)\n",
    "        )\n",
    "\n",
    "    def forward(self, x):\n",
    "        return self.model(x)\n"
   ]
  },
  {
   "cell_type": "code",
   "execution_count": 7,
   "id": "032a3e75",
   "metadata": {
    "execution": {
     "iopub.execute_input": "2025-07-18T15:42:33.087175Z",
     "iopub.status.busy": "2025-07-18T15:42:33.086803Z",
     "iopub.status.idle": "2025-07-18T15:42:33.103241Z",
     "shell.execute_reply": "2025-07-18T15:42:33.102588Z"
    },
    "papermill": {
     "duration": 0.020309,
     "end_time": "2025-07-18T15:42:33.104327",
     "exception": false,
     "start_time": "2025-07-18T15:42:33.084018",
     "status": "completed"
    },
    "tags": []
   },
   "outputs": [],
   "source": [
    "import torch\n",
    "import torch.nn as nn\n",
    "import torch.optim as optim\n",
    "from torch.optim.lr_scheduler import *\n",
    "from sklearn.metrics import precision_recall_fscore_support\n",
    "from tqdm import tqdm\n",
    "\n",
    "\n",
    "def train_model(model, train_loader, val_loader, num_epochs, device, save_path=\"best_model.pth\", lr=0.01, use_tqdm=True, train_dataset=None, early_stop_patience=10):\n",
    "    model = model.to(device)\n",
    "    labels = torch.tensor([s[1] for s in train_dataset.samples], dtype=torch.long)\n",
    "    criterion = nn.CrossEntropyLoss()\n",
    "    optimizer = optim.Adam(model.parameters(), lr=lr, weight_decay=0)\n",
    "    warmup_epochs = 5  # You can adjust this\n",
    "    scheduler = ReduceLROnPlateau(optimizer, 'min', patience=7, factor=0.5)\n",
    "    history = {\n",
    "        'train_loss': [], 'train_acc': [],\n",
    "        'val_loss': [], 'val_acc': [],\n",
    "        'val_precision': [], 'val_recall': [], 'val_f1': []\n",
    "    }\n",
    "\n",
    "    best_f1 = 0.0\n",
    "    best_val_acc = 0.0\n",
    "    best_val_loss = float('inf')  # Initialize best_val_loss with infinity\n",
    "    best_model_path = save_path\n",
    "    no_improve_epochs = 0\n",
    "\n",
    "    for epoch in range(num_epochs):\n",
    "        model.train()\n",
    "        running_loss = 0.0\n",
    "        correct = 0\n",
    "        total = 0\n",
    "\n",
    "        train_bar = tqdm(train_loader, desc=f\"Epoch {epoch+1}/{num_epochs} [Train]\") if use_tqdm else train_loader\n",
    "        for inputs, labels in train_bar:\n",
    "            inputs, labels = inputs.to(device), labels.to(device)\n",
    "            optimizer.zero_grad()\n",
    "            outputs = model(inputs)\n",
    "            loss = criterion(outputs, labels)\n",
    "            loss.backward()\n",
    "            optimizer.step()\n",
    "\n",
    "            running_loss += loss.item() * inputs.size(0)\n",
    "            _, predicted = torch.max(outputs, 1)\n",
    "            total += labels.size(0)\n",
    "            correct += (predicted == labels).sum().item()\n",
    "            train_bar.set_postfix(loss=running_loss / total, acc=100. * correct / total)\n",
    "\n",
    "        epoch_train_loss = running_loss / len(train_loader.dataset)\n",
    "        epoch_train_acc = 100. * correct / total\n",
    "\n",
    "        # Validation\n",
    "        model.eval()\n",
    "        val_loss = 0.0\n",
    "        val_correct = 0\n",
    "        val_total = 0\n",
    "        all_preds = []\n",
    "        all_labels = []\n",
    "\n",
    "        val_bar = tqdm(val_loader, desc=f\"Epoch {epoch+1}/{num_epochs} [Val]\") if use_tqdm else val_loader\n",
    "        with torch.no_grad():\n",
    "            for inputs, labels in val_bar:\n",
    "                inputs, labels = inputs.to(device), labels.to(device)\n",
    "                outputs = model(inputs)\n",
    "                loss = criterion(outputs, labels)\n",
    "                val_loss += loss.item() * inputs.size(0)\n",
    "                _, predicted = torch.max(outputs, 1)\n",
    "                val_total += labels.size(0)\n",
    "                val_correct += (predicted == labels).sum().item()\n",
    "                all_preds.extend(predicted.cpu().numpy())\n",
    "                all_labels.extend(labels.cpu().numpy())\n",
    "                val_bar.set_postfix(loss=val_loss / val_total, acc=100. * val_correct / val_total)\n",
    "\n",
    "        epoch_val_loss = val_loss / len(val_loader.dataset)\n",
    "        epoch_val_acc = 100. * val_correct / val_total\n",
    "\n",
    "        precision, recall, f1, _ = precision_recall_fscore_support(\n",
    "            all_labels, all_preds, average='weighted', zero_division=0\n",
    "        )\n",
    "\n",
    "        history['train_loss'].append(epoch_train_loss)\n",
    "        history['train_acc'].append(epoch_train_acc)\n",
    "        history['val_loss'].append(epoch_val_loss)\n",
    "        history['val_acc'].append(epoch_val_acc)\n",
    "        history['val_precision'].append(precision)\n",
    "        history['val_recall'].append(recall)\n",
    "        history['val_f1'].append(f1)\n",
    "\n",
    "        print(f\"\\nEpoch {epoch+1}/{num_epochs}\")\n",
    "        print(f\"Train Loss: {epoch_train_loss:.4f}, Train Acc: {epoch_train_acc:.2f}%\")\n",
    "        print(f\"Val Loss: {epoch_val_loss:.4f}, Val Acc: {epoch_val_acc:.2f}%\")\n",
    "        print(f\"Val Precision: {precision:.4f}, Val Recall: {recall:.4f}, Val F1: {f1:.4f}\")\n",
    "\n",
    "        \n",
    "\n",
    "        # Save best model based on both accuracy and loss\n",
    "        if f1 > best_f1:\n",
    "            best_f1 = f1\n",
    "            torch.save(model.state_dict(), best_model_path)\n",
    "            print(f\"Best model saved with Val F1: {best_f1:.4f} at {best_model_path}\")\n",
    "            no_improve_epochs = 0  # reset early stopping counter\n",
    "        \n",
    "        # else:\n",
    "        #     no_improve_epochs += 1\n",
    "        #     if no_improve_epochs >= early_stop_patience:\n",
    "        #         print(f\"Early stopping triggered after {early_stop_patience} epochs without improvement.\")\n",
    "        #         break\n",
    "\n",
    "        torch.nn.utils.clip_grad_norm_(model.parameters(), max_norm=1.0)\n",
    "        scheduler.step(epoch_val_loss)\n",
    "\n",
    "    final_model_path = save_path.replace(\".pth\", \"_final.pth\")\n",
    "    torch.save(model.state_dict(), final_model_path)\n",
    "    print(f\"Final model saved at {final_model_path}\")\n",
    "\n",
    "    return history\n",
    "\n",
    "\n",
    "\n",
    "def test_model(model, test_loader, device, test_dataset=None):\n",
    "    \"\"\"\n",
    "    Test function to evaluate the model on a test dataset.\n",
    "\n",
    "    Args:\n",
    "        model: Trained CNN model\n",
    "        test_loader: DataLoader for test data\n",
    "        device: Device to test on ('cuda' or 'cpu')\n",
    "        test_dataset: Optional: dataset for calculating class weights (if needed)\n",
    "\n",
    "    Returns:\n",
    "        test_loss: Average test loss\n",
    "        test_acc: Test accuracy\n",
    "        precision: Weighted precision\n",
    "        recall: Weighted recall\n",
    "        f1: Weighted F1-score\n",
    "    \"\"\"\n",
    "    print(\"Testing\")\n",
    "    model.load_state_dict(torch.load(\"/kaggle/working/best_emotion_model.pth\"))\n",
    "\n",
    "    model = model.to(device)\n",
    "    model.eval()\n",
    "\n",
    "    labels = torch.tensor([s[1] for s in test_dataset.dataset.samples], dtype=torch.long)\n",
    "    criterion = nn.CrossEntropyLoss()\n",
    "    test_loss = 0.0\n",
    "    correct = 0\n",
    "    total = 0\n",
    "    all_preds = []\n",
    "    all_labels = []\n",
    "\n",
    "    test_bar = tqdm(test_loader, desc=\"Testing\")  # Add a progress bar for testing\n",
    "    with torch.no_grad():\n",
    "        for inputs, labels in test_bar:\n",
    "            inputs, labels = inputs.to(device), labels.to(device)\n",
    "            outputs = model(inputs)\n",
    "            loss = criterion(outputs, labels)\n",
    "            test_loss += loss.item() * inputs.size(0)\n",
    "            _, predicted = torch.max(outputs, 1)\n",
    "            total += labels.size(0)\n",
    "            correct += (predicted == labels).sum().item()\n",
    "            all_preds.extend(predicted.cpu().numpy())\n",
    "            all_labels.extend(labels.cpu().numpy())\n",
    "            test_bar.set_postfix(loss=test_loss / total, acc=100. * correct / total)\n",
    "\n",
    "    test_loss = test_loss / len(test_loader.dataset)\n",
    "    test_acc = 100. * correct / total\n",
    "\n",
    "    # Calculate precision, recall, and F1 score\n",
    "    precision, recall, f1, _ = precision_recall_fscore_support(\n",
    "        all_labels, all_preds, average='weighted', zero_division=0\n",
    "    )\n",
    "\n",
    "    print(f\"\\nTest Loss: {test_loss:.4f}, Test Acc: {test_acc:.2f}%\")\n",
    "    print(f\"Test Precision: {precision:.4f}, Test Recall: {recall:.4f}, Test F1: {f1:.4f}\")\n",
    "\n",
    "    return test_loss, test_acc, precision, recall, f1, all_preds, all_labels\n"
   ]
  },
  {
   "cell_type": "code",
   "execution_count": 8,
   "id": "8be47e5f",
   "metadata": {
    "execution": {
     "iopub.execute_input": "2025-07-18T15:42:33.109760Z",
     "iopub.status.busy": "2025-07-18T15:42:33.109022Z",
     "iopub.status.idle": "2025-07-18T15:42:33.112646Z",
     "shell.execute_reply": "2025-07-18T15:42:33.111971Z"
    },
    "papermill": {
     "duration": 0.00731,
     "end_time": "2025-07-18T15:42:33.113643",
     "exception": false,
     "start_time": "2025-07-18T15:42:33.106333",
     "status": "completed"
    },
    "tags": []
   },
   "outputs": [],
   "source": [
    "# class WeightedCrossEntropyLoss(nn.Module):\n",
    "#     def __init__(self, labels, device, num_classes=8):\n",
    "#         super().__init__()\n",
    "#         self.device = device\n",
    "#         self.num_classes = num_classes\n",
    "#         self.weights = self.__compute_weights(labels).to(device)\n",
    "#         self.loss = nn.CrossEntropyLoss(weight=self.weights)\n",
    "\n",
    "#     def __compute_weights(self, labels):\n",
    "#         class_counts = torch.bincount(labels, minlength=self.num_classes)\n",
    "#         total_samples = len(labels)\n",
    "#         weights = total_samples / (self.num_classes * class_counts.float())\n",
    "#         return weights\n",
    "\n",
    "#     def forward(self, outputs, targets):\n",
    "#         return self.loss(outputs, targets)\n"
   ]
  },
  {
   "cell_type": "code",
   "execution_count": 9,
   "id": "6be572a2",
   "metadata": {
    "execution": {
     "iopub.execute_input": "2025-07-18T15:42:33.118807Z",
     "iopub.status.busy": "2025-07-18T15:42:33.118214Z",
     "iopub.status.idle": "2025-07-18T15:42:33.124645Z",
     "shell.execute_reply": "2025-07-18T15:42:33.124121Z"
    },
    "papermill": {
     "duration": 0.009875,
     "end_time": "2025-07-18T15:42:33.125597",
     "exception": false,
     "start_time": "2025-07-18T15:42:33.115722",
     "status": "completed"
    },
    "tags": []
   },
   "outputs": [],
   "source": [
    "import numpy as np\n",
    "import matplotlib.pyplot as plt\n",
    "import seaborn as sns\n",
    "from sklearn.metrics import confusion_matrix, classification_report\n",
    "\n",
    "def plot_loss_curve(train_loss, val_loss):\n",
    "    \"\"\"    \n",
    "    Plots the training and validation loss curves.\n",
    "    \n",
    "    Parameters:       \n",
    "    - train_loss: List of training loss values per epoch\n",
    "    - val_loss: List of validation loss values per epoch\n",
    "    \"\"\"\n",
    "    #Loss curve , still don't know list names \n",
    "    plt.figure(figsize=(10, 5))\n",
    "    plt.plot(train_loss, label='Train Loss')\n",
    "    plt.plot(val_loss, label='Validation Loss')\n",
    "    plt.xlabel('Epoch')\n",
    "    plt.ylabel('Loss')\n",
    "    plt.title('Model Loss per Epoch')\n",
    "    plt.legend()\n",
    "    plt.grid(True)\n",
    "    plt.show()\n",
    "\n",
    "def plot_accuracy_curve(train_acc, val_acc):\n",
    "    \"\"\"\n",
    "    Plots training and validation accuracy per epoch.\n",
    "    \n",
    "    Args:\n",
    "        train_acc (list): Training accuracy values\n",
    "        val_acc (list): Validation accuracy values\n",
    "    \"\"\"\n",
    "    plt.figure(figsize=(10, 5))\n",
    "    plt.plot(train_acc, label='Train Accuracy', marker='o')\n",
    "    plt.plot(val_acc, label='Validation Accuracy', marker='o')\n",
    "    plt.xlabel('Epoch')\n",
    "    plt.ylabel('Accuracy (%)')\n",
    "    plt.title('Model Accuracy per Epoch')\n",
    "    plt.legend()\n",
    "    plt.grid(True)\n",
    "    plt.tight_layout()\n",
    "    plt.show()\n",
    "\n",
    "def plot_confusion_matrix(y_true, y_pred, class_names):\n",
    "    cm = confusion_matrix(y_true, y_pred)\n",
    "    plt.figure(figsize=(6, 5))\n",
    "    sns.heatmap(cm, annot=True, fmt='d', cmap='Blues',\n",
    "                xticklabels=class_names, yticklabels=class_names)\n",
    "    plt.xlabel('Predicted Label')\n",
    "    plt.ylabel('True Label')\n",
    "    plt.title('Confusion Matrix')\n",
    "    plt.tight_layout()\n",
    "    plt.show()\n",
    "\n",
    "    print(\"\\nClassification Report:\")\n",
    "    print(classification_report(y_true, y_pred, target_names=class_names))\n",
    "\n"
   ]
  },
  {
   "cell_type": "code",
   "execution_count": 10,
   "id": "709fce15",
   "metadata": {
    "execution": {
     "iopub.execute_input": "2025-07-18T15:42:33.130815Z",
     "iopub.status.busy": "2025-07-18T15:42:33.130115Z",
     "iopub.status.idle": "2025-07-18T15:53:49.630306Z",
     "shell.execute_reply": "2025-07-18T15:53:49.629605Z"
    },
    "papermill": {
     "duration": 676.504226,
     "end_time": "2025-07-18T15:53:49.631841",
     "exception": false,
     "start_time": "2025-07-18T15:42:33.127615",
     "status": "completed"
    },
    "tags": []
   },
   "outputs": [
    {
     "name": "stdout",
     "output_type": "stream",
     "text": [
      "Train class distribution:\n",
      "6: 6187\n"
     ]
    },
    {
     "name": "stderr",
     "output_type": "stream",
     "text": [
      "/usr/local/lib/python3.11/dist-packages/torchvision/models/_utils.py:208: UserWarning: The parameter 'pretrained' is deprecated since 0.13 and may be removed in the future, please use 'weights' instead.\n",
      "  warnings.warn(\n",
      "/usr/local/lib/python3.11/dist-packages/torchvision/models/_utils.py:223: UserWarning: Arguments other than a weight enum or `None` for 'weights' are deprecated since 0.13 and may be removed in the future. The current behavior is equivalent to passing `weights=VGG16_Weights.IMAGENET1K_V1`. You can also use `weights=VGG16_Weights.DEFAULT` to get the most up-to-date weights.\n",
      "  warnings.warn(msg)\n",
      "Downloading: \"https://download.pytorch.org/models/vgg16-397923af.pth\" to /root/.cache/torch/hub/checkpoints/vgg16-397923af.pth\n",
      "100%|██████████| 528M/528M [00:02<00:00, 222MB/s]\n",
      "Epoch 1/20 [Train]: 100%|██████████| 457/457 [00:29<00:00, 15.25it/s, acc=54.3, loss=1.22]\n",
      "Epoch 1/20 [Val]: 100%|██████████| 57/57 [00:05<00:00, 11.23it/s, acc=66.7, loss=0.906]\n"
     ]
    },
    {
     "name": "stdout",
     "output_type": "stream",
     "text": [
      "\n",
      "Epoch 1/20\n",
      "Train Loss: 1.2246, Train Acc: 54.28%\n",
      "Val Loss: 0.9061, Val Acc: 66.68%\n",
      "Val Precision: 0.6716, Val Recall: 0.6668, Val F1: 0.6446\n",
      "Best model saved with Val F1: 0.6446 at /kaggle/working/best_emotion_model.pth\n"
     ]
    },
    {
     "name": "stderr",
     "output_type": "stream",
     "text": [
      "Epoch 2/20 [Train]: 100%|██████████| 457/457 [00:28<00:00, 15.85it/s, acc=67.6, loss=0.889]\n",
      "Epoch 2/20 [Val]: 100%|██████████| 57/57 [00:02<00:00, 27.64it/s, acc=72.7, loss=0.76]\n"
     ]
    },
    {
     "name": "stdout",
     "output_type": "stream",
     "text": [
      "\n",
      "Epoch 2/20\n",
      "Train Loss: 0.8886, Train Acc: 67.60%\n",
      "Val Loss: 0.7605, Val Acc: 72.68%\n",
      "Val Precision: 0.7363, Val Recall: 0.7268, Val F1: 0.7184\n",
      "Best model saved with Val F1: 0.7184 at /kaggle/working/best_emotion_model.pth\n"
     ]
    },
    {
     "name": "stderr",
     "output_type": "stream",
     "text": [
      "Epoch 3/20 [Train]: 100%|██████████| 457/457 [00:28<00:00, 15.89it/s, acc=71.3, loss=0.779]\n",
      "Epoch 3/20 [Val]: 100%|██████████| 57/57 [00:02<00:00, 26.31it/s, acc=74, loss=0.704]\n"
     ]
    },
    {
     "name": "stdout",
     "output_type": "stream",
     "text": [
      "\n",
      "Epoch 3/20\n",
      "Train Loss: 0.7789, Train Acc: 71.25%\n",
      "Val Loss: 0.7037, Val Acc: 73.95%\n",
      "Val Precision: 0.7420, Val Recall: 0.7395, Val F1: 0.7296\n",
      "Best model saved with Val F1: 0.7296 at /kaggle/working/best_emotion_model.pth\n"
     ]
    },
    {
     "name": "stderr",
     "output_type": "stream",
     "text": [
      "Epoch 4/20 [Train]: 100%|██████████| 457/457 [00:28<00:00, 15.87it/s, acc=74.2, loss=0.708]\n",
      "Epoch 4/20 [Val]: 100%|██████████| 57/57 [00:02<00:00, 27.88it/s, acc=75.7, loss=0.673]\n"
     ]
    },
    {
     "name": "stdout",
     "output_type": "stream",
     "text": [
      "\n",
      "Epoch 4/20\n",
      "Train Loss: 0.7080, Train Acc: 74.20%\n",
      "Val Loss: 0.6735, Val Acc: 75.69%\n",
      "Val Precision: 0.7528, Val Recall: 0.7569, Val F1: 0.7461\n",
      "Best model saved with Val F1: 0.7461 at /kaggle/working/best_emotion_model.pth\n"
     ]
    },
    {
     "name": "stderr",
     "output_type": "stream",
     "text": [
      "Epoch 5/20 [Train]: 100%|██████████| 457/457 [00:28<00:00, 15.88it/s, acc=76.1, loss=0.652]\n",
      "Epoch 5/20 [Val]: 100%|██████████| 57/57 [00:02<00:00, 27.23it/s, acc=77.1, loss=0.644]\n"
     ]
    },
    {
     "name": "stdout",
     "output_type": "stream",
     "text": [
      "\n",
      "Epoch 5/20\n",
      "Train Loss: 0.6517, Train Acc: 76.14%\n",
      "Val Loss: 0.6442, Val Acc: 77.09%\n",
      "Val Precision: 0.7739, Val Recall: 0.7709, Val F1: 0.7640\n",
      "Best model saved with Val F1: 0.7640 at /kaggle/working/best_emotion_model.pth\n"
     ]
    },
    {
     "name": "stderr",
     "output_type": "stream",
     "text": [
      "Epoch 6/20 [Train]: 100%|██████████| 457/457 [00:28<00:00, 15.88it/s, acc=77.3, loss=0.615]\n",
      "Epoch 6/20 [Val]: 100%|██████████| 57/57 [00:02<00:00, 27.23it/s, acc=78.3, loss=0.605]\n"
     ]
    },
    {
     "name": "stdout",
     "output_type": "stream",
     "text": [
      "\n",
      "Epoch 6/20\n",
      "Train Loss: 0.6146, Train Acc: 77.35%\n",
      "Val Loss: 0.6048, Val Acc: 78.31%\n",
      "Val Precision: 0.7850, Val Recall: 0.7831, Val F1: 0.7808\n",
      "Best model saved with Val F1: 0.7808 at /kaggle/working/best_emotion_model.pth\n"
     ]
    },
    {
     "name": "stderr",
     "output_type": "stream",
     "text": [
      "Epoch 7/20 [Train]: 100%|██████████| 457/457 [00:28<00:00, 15.87it/s, acc=79, loss=0.568]\n",
      "Epoch 7/20 [Val]: 100%|██████████| 57/57 [00:02<00:00, 28.27it/s, acc=79.3, loss=0.591]\n"
     ]
    },
    {
     "name": "stdout",
     "output_type": "stream",
     "text": [
      "\n",
      "Epoch 7/20\n",
      "Train Loss: 0.5683, Train Acc: 78.98%\n",
      "Val Loss: 0.5907, Val Acc: 79.27%\n",
      "Val Precision: 0.7929, Val Recall: 0.7927, Val F1: 0.7910\n",
      "Best model saved with Val F1: 0.7910 at /kaggle/working/best_emotion_model.pth\n"
     ]
    },
    {
     "name": "stderr",
     "output_type": "stream",
     "text": [
      "Epoch 8/20 [Train]: 100%|██████████| 457/457 [00:28<00:00, 15.87it/s, acc=80.1, loss=0.536]\n",
      "Epoch 8/20 [Val]: 100%|██████████| 57/57 [00:02<00:00, 27.04it/s, acc=78.4, loss=0.614]\n"
     ]
    },
    {
     "name": "stdout",
     "output_type": "stream",
     "text": [
      "\n",
      "Epoch 8/20\n",
      "Train Loss: 0.5360, Train Acc: 80.09%\n",
      "Val Loss: 0.6144, Val Acc: 78.39%\n",
      "Val Precision: 0.7887, Val Recall: 0.7839, Val F1: 0.7780\n"
     ]
    },
    {
     "name": "stderr",
     "output_type": "stream",
     "text": [
      "Epoch 9/20 [Train]: 100%|██████████| 457/457 [00:28<00:00, 15.82it/s, acc=81.7, loss=0.498]\n",
      "Epoch 9/20 [Val]: 100%|██████████| 57/57 [00:02<00:00, 27.85it/s, acc=79.5, loss=0.577]\n"
     ]
    },
    {
     "name": "stdout",
     "output_type": "stream",
     "text": [
      "\n",
      "Epoch 9/20\n",
      "Train Loss: 0.4976, Train Acc: 81.66%\n",
      "Val Loss: 0.5768, Val Acc: 79.55%\n",
      "Val Precision: 0.7939, Val Recall: 0.7955, Val F1: 0.7918\n",
      "Best model saved with Val F1: 0.7918 at /kaggle/working/best_emotion_model.pth\n"
     ]
    },
    {
     "name": "stderr",
     "output_type": "stream",
     "text": [
      "Epoch 10/20 [Train]: 100%|██████████| 457/457 [00:28<00:00, 15.92it/s, acc=82.7, loss=0.474]\n",
      "Epoch 10/20 [Val]: 100%|██████████| 57/57 [00:02<00:00, 27.73it/s, acc=79.5, loss=0.607]\n"
     ]
    },
    {
     "name": "stdout",
     "output_type": "stream",
     "text": [
      "\n",
      "Epoch 10/20\n",
      "Train Loss: 0.4743, Train Acc: 82.65%\n",
      "Val Loss: 0.6073, Val Acc: 79.52%\n",
      "Val Precision: 0.7941, Val Recall: 0.7952, Val F1: 0.7894\n"
     ]
    },
    {
     "name": "stderr",
     "output_type": "stream",
     "text": [
      "Epoch 11/20 [Train]: 100%|██████████| 457/457 [00:28<00:00, 15.91it/s, acc=83.6, loss=0.448]\n",
      "Epoch 11/20 [Val]: 100%|██████████| 57/57 [00:02<00:00, 28.34it/s, acc=79.7, loss=0.602]\n"
     ]
    },
    {
     "name": "stdout",
     "output_type": "stream",
     "text": [
      "\n",
      "Epoch 11/20\n",
      "Train Loss: 0.4481, Train Acc: 83.57%\n",
      "Val Loss: 0.6018, Val Acc: 79.74%\n",
      "Val Precision: 0.7998, Val Recall: 0.7974, Val F1: 0.7948\n",
      "Best model saved with Val F1: 0.7948 at /kaggle/working/best_emotion_model.pth\n"
     ]
    },
    {
     "name": "stderr",
     "output_type": "stream",
     "text": [
      "Epoch 12/20 [Train]: 100%|██████████| 457/457 [00:28<00:00, 15.93it/s, acc=84.3, loss=0.425]\n",
      "Epoch 12/20 [Val]: 100%|██████████| 57/57 [00:02<00:00, 27.84it/s, acc=80.3, loss=0.59]\n"
     ]
    },
    {
     "name": "stdout",
     "output_type": "stream",
     "text": [
      "\n",
      "Epoch 12/20\n",
      "Train Loss: 0.4249, Train Acc: 84.30%\n",
      "Val Loss: 0.5905, Val Acc: 80.29%\n",
      "Val Precision: 0.8001, Val Recall: 0.8029, Val F1: 0.7984\n",
      "Best model saved with Val F1: 0.7984 at /kaggle/working/best_emotion_model.pth\n"
     ]
    },
    {
     "name": "stderr",
     "output_type": "stream",
     "text": [
      "Epoch 13/20 [Train]: 100%|██████████| 457/457 [00:28<00:00, 15.82it/s, acc=84.9, loss=0.399]\n",
      "Epoch 13/20 [Val]: 100%|██████████| 57/57 [00:02<00:00, 27.66it/s, acc=80.6, loss=0.612]\n"
     ]
    },
    {
     "name": "stdout",
     "output_type": "stream",
     "text": [
      "\n",
      "Epoch 13/20\n",
      "Train Loss: 0.3988, Train Acc: 84.92%\n",
      "Val Loss: 0.6123, Val Acc: 80.62%\n",
      "Val Precision: 0.8071, Val Recall: 0.8062, Val F1: 0.8060\n",
      "Best model saved with Val F1: 0.8060 at /kaggle/working/best_emotion_model.pth\n"
     ]
    },
    {
     "name": "stderr",
     "output_type": "stream",
     "text": [
      "Epoch 14/20 [Train]: 100%|██████████| 457/457 [00:28<00:00, 15.83it/s, acc=85.8, loss=0.379]\n",
      "Epoch 14/20 [Val]: 100%|██████████| 57/57 [00:02<00:00, 28.28it/s, acc=80.2, loss=0.625]\n"
     ]
    },
    {
     "name": "stdout",
     "output_type": "stream",
     "text": [
      "\n",
      "Epoch 14/20\n",
      "Train Loss: 0.3792, Train Acc: 85.76%\n",
      "Val Loss: 0.6247, Val Acc: 80.15%\n",
      "Val Precision: 0.7989, Val Recall: 0.8015, Val F1: 0.7963\n"
     ]
    },
    {
     "name": "stderr",
     "output_type": "stream",
     "text": [
      "Epoch 15/20 [Train]: 100%|██████████| 457/457 [00:28<00:00, 15.85it/s, acc=86.8, loss=0.357]\n",
      "Epoch 15/20 [Val]: 100%|██████████| 57/57 [00:02<00:00, 27.96it/s, acc=80.3, loss=0.639]\n"
     ]
    },
    {
     "name": "stdout",
     "output_type": "stream",
     "text": [
      "\n",
      "Epoch 15/20\n",
      "Train Loss: 0.3566, Train Acc: 86.83%\n",
      "Val Loss: 0.6388, Val Acc: 80.29%\n",
      "Val Precision: 0.8056, Val Recall: 0.8029, Val F1: 0.8016\n"
     ]
    },
    {
     "name": "stderr",
     "output_type": "stream",
     "text": [
      "Epoch 16/20 [Train]: 100%|██████████| 457/457 [00:28<00:00, 15.86it/s, acc=87.8, loss=0.334]\n",
      "Epoch 16/20 [Val]: 100%|██████████| 57/57 [00:02<00:00, 26.18it/s, acc=80.5, loss=0.646]\n"
     ]
    },
    {
     "name": "stdout",
     "output_type": "stream",
     "text": [
      "\n",
      "Epoch 16/20\n",
      "Train Loss: 0.3335, Train Acc: 87.81%\n",
      "Val Loss: 0.6460, Val Acc: 80.46%\n",
      "Val Precision: 0.8038, Val Recall: 0.8046, Val F1: 0.8025\n"
     ]
    },
    {
     "name": "stderr",
     "output_type": "stream",
     "text": [
      "Epoch 17/20 [Train]: 100%|██████████| 457/457 [00:28<00:00, 15.85it/s, acc=88.7, loss=0.31]\n",
      "Epoch 17/20 [Val]: 100%|██████████| 57/57 [00:02<00:00, 25.88it/s, acc=80.1, loss=0.677]\n"
     ]
    },
    {
     "name": "stdout",
     "output_type": "stream",
     "text": [
      "\n",
      "Epoch 17/20\n",
      "Train Loss: 0.3100, Train Acc: 88.72%\n",
      "Val Loss: 0.6774, Val Acc: 80.13%\n",
      "Val Precision: 0.7971, Val Recall: 0.8013, Val F1: 0.7965\n"
     ]
    },
    {
     "name": "stderr",
     "output_type": "stream",
     "text": [
      "Epoch 18/20 [Train]: 100%|██████████| 457/457 [00:28<00:00, 15.95it/s, acc=90.2, loss=0.265]\n",
      "Epoch 18/20 [Val]: 100%|██████████| 57/57 [00:02<00:00, 25.62it/s, acc=80.8, loss=0.675]\n"
     ]
    },
    {
     "name": "stdout",
     "output_type": "stream",
     "text": [
      "\n",
      "Epoch 18/20\n",
      "Train Loss: 0.2651, Train Acc: 90.24%\n",
      "Val Loss: 0.6748, Val Acc: 80.82%\n",
      "Val Precision: 0.8060, Val Recall: 0.8082, Val F1: 0.8055\n"
     ]
    },
    {
     "name": "stderr",
     "output_type": "stream",
     "text": [
      "Epoch 19/20 [Train]: 100%|██████████| 457/457 [00:28<00:00, 15.93it/s, acc=90.8, loss=0.253]\n",
      "Epoch 19/20 [Val]: 100%|██████████| 57/57 [00:02<00:00, 27.25it/s, acc=80.6, loss=0.676]\n"
     ]
    },
    {
     "name": "stdout",
     "output_type": "stream",
     "text": [
      "\n",
      "Epoch 19/20\n",
      "Train Loss: 0.2533, Train Acc: 90.83%\n",
      "Val Loss: 0.6763, Val Acc: 80.60%\n",
      "Val Precision: 0.8040, Val Recall: 0.8060, Val F1: 0.8034\n"
     ]
    },
    {
     "name": "stderr",
     "output_type": "stream",
     "text": [
      "Epoch 20/20 [Train]: 100%|██████████| 457/457 [00:28<00:00, 15.93it/s, acc=91.5, loss=0.235]\n",
      "Epoch 20/20 [Val]: 100%|██████████| 57/57 [00:02<00:00, 25.80it/s, acc=80.4, loss=0.741]\n"
     ]
    },
    {
     "name": "stdout",
     "output_type": "stream",
     "text": [
      "\n",
      "Epoch 20/20\n",
      "Train Loss: 0.2352, Train Acc: 91.46%\n",
      "Val Loss: 0.7408, Val Acc: 80.40%\n",
      "Val Precision: 0.8028, Val Recall: 0.8040, Val F1: 0.7986\n",
      "Final model saved at /kaggle/working/best_emotion_model_final.pth\n",
      "Testing\n"
     ]
    },
    {
     "name": "stderr",
     "output_type": "stream",
     "text": [
      "Testing: 100%|██████████| 57/57 [00:05<00:00, 10.85it/s, acc=80.5, loss=0.602]\n"
     ]
    },
    {
     "name": "stdout",
     "output_type": "stream",
     "text": [
      "\n",
      "Test Loss: 0.6022, Test Acc: 80.51%\n",
      "Test Precision: 0.8083, Test Recall: 0.8051, Test F1: 0.8049\n"
     ]
    },
    {
     "data": {
      "image/png": "[encoded data removed]",
      "text/plain": [
       "<Figure size 1000x500 with 1 Axes>"
      ]
     },
     "metadata": {},
     "output_type": "display_data"
    },
    {
     "data": {
      "image/png": "[encoded data removed]",
      "text/plain": [
       "<Figure size 1000x500 with 1 Axes>"
      ]
     },
     "metadata": {},
     "output_type": "display_data"
    },
    {
     "data": {
      "image/png": "[encoded data removed]",
      "text/plain": [
       "<Figure size 600x500 with 2 Axes>"
      ]
     },
     "metadata": {},
     "output_type": "display_data"
    },
    {
     "name": "stdout",
     "output_type": "stream",
     "text": [
      "\n",
      "Classification Report:\n",
      "              precision    recall  f1-score   support\n",
      "\n",
      "           0       0.67      0.69      0.68       409\n",
      "           1       0.97      0.98      0.98       499\n",
      "           2       0.77      0.60      0.67       317\n",
      "           3       0.90      0.87      0.88       815\n",
      "           4       0.71      0.73      0.72       551\n",
      "           5       0.86      0.79      0.83       380\n",
      "           6       0.73      0.84      0.78       657\n",
      "\n",
      "    accuracy                           0.81      3628\n",
      "   macro avg       0.80      0.79      0.79      3628\n",
      "weighted avg       0.81      0.81      0.80      3628\n",
      "\n"
     ]
    }
   ],
   "source": [
    "# Config\n",
    "root_dir = \"/kaggle/input/dr-fatma-mazen/FER+\"\n",
    "batch_size = 64\n",
    "num_classes = 8\n",
    "num_epochs = 20\n",
    "device = torch.device(\"cuda\" if torch.cuda.is_available() else \"cpu\")\n",
    "save_path = \"/kaggle/working/best_emotion_model.pth\"\n",
    "\n",
    "# Data setup\n",
    "data_module = FERPlusImageFolderDataModule(root_dir, batch_size)\n",
    "data_module.setup()\n",
    "\n",
    "train_loader = data_module.train_dataloader()\n",
    "val_loader = data_module.val_dataloader()\n",
    "test_loader = data_module.test_dataloader()\n",
    "\n",
    "\n",
    "\n",
    "model = EmotionDetectorVGGFace(num_classes=num_classes)\n",
    "\n",
    "\n",
    "original_train_dataset = data_module.train_dataset\n",
    "\n",
    "history = train_model(model, train_loader, val_loader, num_epochs, device, save_path,\n",
    "                      lr=1e-5, train_dataset=original_train_dataset)\n",
    "\n",
    "\n",
    "\n",
    "original_test_dataset = data_module.test_dataset\n",
    "test_loss, test_acc, precision, recall, f1, all_preds, all_labels = test_model(\n",
    "    model, test_loader, device, test_dataset=original_test_dataset\n",
    ")\n",
    "\n",
    "\n",
    "plot_loss_curve(history['train_loss'], history['val_loss'])\n",
    "plot_accuracy_curve(history['train_acc'], history['val_acc'])\n",
    "\n",
    "class_names = data_module.train_dataset.classes\n",
    "plot_confusion_matrix(all_labels, all_preds, class_names)\n",
    "torch.save(model, \"/kaggle/working/emotion_model_full.pt\")\n"
   ]
  }
 ],
 "metadata": {
  "kaggle": {
   "accelerator": "gpu",
   "dataSources": [
    {
     "datasetId": 7888831,
     "sourceId": 12499722,
     "sourceType": "datasetVersion"
    },
    {
     "datasetId": 7894792,
     "sourceId": 12508237,
     "sourceType": "datasetVersion"
    }
   ],
   "dockerImageVersionId": 31090,
   "isGpuEnabled": true,
   "isInternetEnabled": true,
   "language": "python",
   "sourceType": "notebook"
  },
  "kernelspec": {
   "display_name": "Python 3",
   "language": "python",
   "name": "python3"
  },
  "language_info": {
   "codemirror_mode": {
    "name": "ipython",
    "version": 3
   },
   "file_extension": ".py",
   "mimetype": "text/x-python",
   "name": "python",
   "nbconvert_exporter": "python",
   "pygments_lexer": "ipython3",
   "version": "3.11.13"
  },
  "papermill": {
   "default_parameters": {},
   "duration": 694.561284,
   "end_time": "2025-07-18T15:53:52.130794",
   "environment_variables": {},
   "exception": null,
   "input_path": "__notebook__.ipynb",
   "output_path": "__notebook__.ipynb",
   "parameters": {},
   "start_time": "2025-07-18T15:42:17.569510",
   "version": "2.6.0"
  }
 },
 "nbformat": 4,
 "nbformat_minor": 5
}
