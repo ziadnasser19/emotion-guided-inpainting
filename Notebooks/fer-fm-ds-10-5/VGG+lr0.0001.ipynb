{
 "cells": [
  {
   "cell_type": "code",
   "execution_count": 1,
   "id": "435fb48f",
   "metadata": {
    "execution": {
     "iopub.execute_input": "2025-07-18T14:36:49.752133Z",
     "iopub.status.busy": "2025-07-18T14:36:49.751854Z",
     "iopub.status.idle": "2025-07-18T14:37:02.027330Z",
     "shell.execute_reply": "2025-07-18T14:37:02.026698Z"
    },
    "papermill": {
     "duration": 12.280821,
     "end_time": "2025-07-18T14:37:02.028690",
     "exception": false,
     "start_time": "2025-07-18T14:36:49.747869",
     "status": "completed"
    },
    "tags": []
   },
   "outputs": [],
   "source": [
    "import torch\n",
    "import torch.nn as nn\n",
    "import torch.optim as optim\n",
    "from torch.optim.lr_scheduler import ReduceLROnPlateau\n",
    "from torch.utils.data import DataLoader, WeightedRandomSampler, Dataset\n",
    "from torchvision import transforms, models\n",
    "from sklearn.metrics import precision_recall_fscore_support, confusion_matrix, classification_report\n",
    "from tqdm import tqdm\n",
    "import os\n",
    "from PIL import Image\n",
    "import numpy as np\n",
    "import matplotlib.pyplot as plt\n",
    "import seaborn as sns\n",
    "import pandas as pd\n",
    "from torchvision.models import EfficientNet_V2_S_Weights\n",
    "from torchvision.models import resnet18\n"
   ]
  },
  {
   "cell_type": "code",
   "execution_count": 2,
   "id": "7bf40567",
   "metadata": {
    "execution": {
     "iopub.execute_input": "2025-07-18T14:37:02.034829Z",
     "iopub.status.busy": "2025-07-18T14:37:02.034484Z",
     "iopub.status.idle": "2025-07-18T14:37:02.042751Z",
     "shell.execute_reply": "2025-07-18T14:37:02.042234Z"
    },
    "papermill": {
     "duration": 0.012354,
     "end_time": "2025-07-18T14:37:02.043875",
     "exception": false,
     "start_time": "2025-07-18T14:37:02.031521",
     "status": "completed"
    },
    "tags": []
   },
   "outputs": [],
   "source": [
    "from torchvision.datasets import ImageFolder\n",
    "from torchvision import transforms\n",
    "from torch.utils.data import DataLoader, WeightedRandomSampler\n",
    "import os\n",
    "\n",
    "class FERPlusImageFolderDataModule:\n",
    "    def __init__(self, root_dir, batch_size=64):\n",
    "        self.train_dir = os.path.join(root_dir, \"train\")\n",
    "        self.test_dir = os.path.join(root_dir, \"test\")\n",
    "        self.batch_size = batch_size\n",
    "        \n",
    "\n",
    "        \n",
    "        self.train_transform = transforms.Compose([\n",
    "            transforms.Resize((48, 48)),\n",
    "            transforms.RandomHorizontalFlip(p=0.5),\n",
    "            transforms.RandomRotation(10),\n",
    "            transforms.Grayscale(num_output_channels=1),\n",
    "            transforms.ToTensor(),\n",
    "            transforms.Normalize(mean=[0.5], std=[0.5])\n",
    "        ])\n",
    "\n",
    "        \n",
    "        self.eval_transform = transforms.Compose([\n",
    "            transforms.Grayscale(num_output_channels=1),  # Ensure grayscale\n",
    "            transforms.Resize((48, 48)),                  # Standard FER size\n",
    "            transforms.ToTensor(),                        # Convert to [0,1] tensor\n",
    "            transforms.Normalize(mean=[0.5], std=[0.5])   # Normalize grayscale\n",
    "        ])\n",
    "\n",
    "    def setup(self):\n",
    "        self.train_dataset = ImageFolder(self.train_dir, transform=self.train_transform)\n",
    "        self.test_dataset = ImageFolder(self.test_dir, transform=self.eval_transform)\n",
    "\n",
    "\n",
    "        print(\"Train class distribution:\")\n",
    "        for cls in self.train_dataset.classes:\n",
    "            count = len([x for x in self.train_dataset.samples if x[1] == self.train_dataset.class_to_idx[cls]])\n",
    "        print(f\"{cls}: {count}\")\n",
    "\n",
    "        \n",
    "        # Split test into val + test manually (optional)\n",
    "        val_size = int(0.5 * len(self.test_dataset))\n",
    "        test_size = len(self.test_dataset) - val_size\n",
    "        self.val_dataset, self.test_dataset = torch.utils.data.random_split(\n",
    "            self.test_dataset, [val_size, test_size], generator=torch.Generator().manual_seed(42)\n",
    "        )\n",
    "    def train_dataloader(self):\n",
    "        return DataLoader(self.train_dataset,batch_size=self.batch_size,shuffle=True,num_workers=4)\n",
    "    \n",
    "    def val_dataloader(self):\n",
    "        return DataLoader(self.val_dataset, batch_size=self.batch_size, shuffle=False, num_workers=2)\n",
    "\n",
    "    def test_dataloader(self):\n",
    "        return DataLoader(self.test_dataset, batch_size=self.batch_size, shuffle=False, num_workers=2)\n"
   ]
  },
  {
   "cell_type": "code",
   "execution_count": 3,
   "id": "caf6bdf0",
   "metadata": {
    "_cell_guid": "b1076dfc-b9ad-4769-8c92-a6c4dae69d19",
    "_uuid": "8f2839f25d086af736a60e9eeb907d3b93b6e0e5",
    "execution": {
     "iopub.execute_input": "2025-07-18T14:37:02.049078Z",
     "iopub.status.busy": "2025-07-18T14:37:02.048884Z",
     "iopub.status.idle": "2025-07-18T14:37:02.053537Z",
     "shell.execute_reply": "2025-07-18T14:37:02.053028Z"
    },
    "papermill": {
     "duration": 0.008379,
     "end_time": "2025-07-18T14:37:02.054529",
     "exception": false,
     "start_time": "2025-07-18T14:37:02.046150",
     "status": "completed"
    },
    "tags": []
   },
   "outputs": [],
   "source": [
    "class EmotionDetectorResNet18(nn.Module):\n",
    "    def __init__(self, num_classes=8):\n",
    "        super(EmotionDetectorResNet18, self).__init__()\n",
    "        self.model = resnet18(weights='IMAGENET1K_V1')  # Pretrained weights\n",
    "\n",
    "        # Modify for grayscale input\n",
    "        self.model.conv1 = nn.Conv2d(1, 64, kernel_size=7, stride=2, padding=3, bias=False)\n",
    "\n",
    "        # Replace final classifier\n",
    "        self.model.fc = nn.Sequential(\n",
    "            nn.Dropout(p=0.2),\n",
    "            nn.Linear(self.model.fc.in_features, num_classes)\n",
    "        )\n",
    "\n",
    "    def forward(self, x):\n",
    "        return self.model(x)"
   ]
  },
  {
   "cell_type": "code",
   "execution_count": 4,
   "id": "03ba991a",
   "metadata": {
    "execution": {
     "iopub.execute_input": "2025-07-18T14:37:02.059764Z",
     "iopub.status.busy": "2025-07-18T14:37:02.059345Z",
     "iopub.status.idle": "2025-07-18T14:37:02.063727Z",
     "shell.execute_reply": "2025-07-18T14:37:02.063245Z"
    },
    "papermill": {
     "duration": 0.008064,
     "end_time": "2025-07-18T14:37:02.064755",
     "exception": false,
     "start_time": "2025-07-18T14:37:02.056691",
     "status": "completed"
    },
    "tags": []
   },
   "outputs": [],
   "source": [
    "class EmotionDetectorMobileNetV2(nn.Module):\n",
    "    def __init__(self, num_classes=8):\n",
    "        super(EmotionDetectorMobileNetV2, self).__init__()\n",
    "        self.model = models.mobilenet_v2(pretrained=True)  # Using MobileNetV2 as base model\n",
    "\n",
    "        self.model.features[0][0] = nn.Conv2d(1, 32, kernel_size=3, stride=2, padding=1, bias=False)\n",
    "        # Modify the classifier to match our problem\n",
    "        self.model.classifier[1] = nn.Sequential(\n",
    "            nn.Dropout(p=0.7),  # Increased dropout to 50%\n",
    "            nn.Linear(self.model.classifier[1].in_features, num_classes)\n",
    "        )\n",
    "\n",
    "    def forward(self, x):\n",
    "        return self.model(x)"
   ]
  },
  {
   "cell_type": "code",
   "execution_count": 5,
   "id": "7bd33753",
   "metadata": {
    "execution": {
     "iopub.execute_input": "2025-07-18T14:37:02.069887Z",
     "iopub.status.busy": "2025-07-18T14:37:02.069479Z",
     "iopub.status.idle": "2025-07-18T14:37:02.074492Z",
     "shell.execute_reply": "2025-07-18T14:37:02.073772Z"
    },
    "papermill": {
     "duration": 0.00871,
     "end_time": "2025-07-18T14:37:02.075595",
     "exception": false,
     "start_time": "2025-07-18T14:37:02.066885",
     "status": "completed"
    },
    "tags": []
   },
   "outputs": [],
   "source": [
    "from torchvision.models import efficientnet_v2_s\n",
    "\n",
    "class EmotionDetectorEffNet(nn.Module):\n",
    "    def __init__(self, num_classes=8):\n",
    "        super(EmotionDetectorEffNet, self).__init__()\n",
    "        self.model = efficientnet_v2_s(weights=EfficientNet_V2_S_Weights.DEFAULT)  # Use pre-trained weights\n",
    "        self.model.features[0][0] = nn.Conv2d(1, 24, kernel_size=3, stride=2, padding=1, bias=False)\n",
    "        self.model.classifier[1] = nn.Sequential(\n",
    "            nn.Dropout(p=0.2),\n",
    "            nn.Linear(self.model.classifier[1].in_features, num_classes)\n",
    "        )\n",
    "\n",
    "    def forward(self, x):\n",
    "        return self.model(x)\n"
   ]
  },
  {
   "cell_type": "code",
   "execution_count": 6,
   "id": "a093805b",
   "metadata": {
    "execution": {
     "iopub.execute_input": "2025-07-18T14:37:02.080473Z",
     "iopub.status.busy": "2025-07-18T14:37:02.080260Z",
     "iopub.status.idle": "2025-07-18T14:37:02.085474Z",
     "shell.execute_reply": "2025-07-18T14:37:02.084789Z"
    },
    "papermill": {
     "duration": 0.008811,
     "end_time": "2025-07-18T14:37:02.086511",
     "exception": false,
     "start_time": "2025-07-18T14:37:02.077700",
     "status": "completed"
    },
    "tags": []
   },
   "outputs": [],
   "source": [
    "import torch.nn as nn\n",
    "import torch\n",
    "from torchvision import models\n",
    "\n",
    "class EmotionDetectorVGGFace(nn.Module):\n",
    "    def __init__(self, num_classes=7):\n",
    "        super(EmotionDetectorVGGFace, self).__init__()\n",
    "        # Use VGG16 as base for VGG-Face-like architecture\n",
    "        self.model = models.vgg16(pretrained=True)  # You can replace this with custom VGG-Face weights\n",
    "\n",
    "        # Change input conv layer to accept grayscale images\n",
    "        self.model.features[0] = nn.Conv2d(1, 64, kernel_size=3, padding=1)\n",
    "\n",
    "        # Replace classifier to output emotions\n",
    "        self.model.classifier = nn.Sequential(\n",
    "            nn.Linear(25088, 4096),\n",
    "            nn.ReLU(True),\n",
    "            nn.Dropout(0.5),\n",
    "            nn.Linear(4096, 4096),\n",
    "            nn.ReLU(True),\n",
    "            nn.Dropout(0.5),\n",
    "            nn.Linear(4096, num_classes)\n",
    "        )\n",
    "\n",
    "    def forward(self, x):\n",
    "        return self.model(x)\n"
   ]
  },
  {
   "cell_type": "code",
   "execution_count": 7,
   "id": "fbc94985",
   "metadata": {
    "execution": {
     "iopub.execute_input": "2025-07-18T14:37:02.091669Z",
     "iopub.status.busy": "2025-07-18T14:37:02.091467Z",
     "iopub.status.idle": "2025-07-18T14:37:02.109676Z",
     "shell.execute_reply": "2025-07-18T14:37:02.109152Z"
    },
    "papermill": {
     "duration": 0.022119,
     "end_time": "2025-07-18T14:37:02.110714",
     "exception": false,
     "start_time": "2025-07-18T14:37:02.088595",
     "status": "completed"
    },
    "tags": []
   },
   "outputs": [],
   "source": [
    "import torch\n",
    "import torch.nn as nn\n",
    "import torch.optim as optim\n",
    "from torch.optim.lr_scheduler import *\n",
    "from sklearn.metrics import precision_recall_fscore_support\n",
    "from tqdm import tqdm\n",
    "\n",
    "\n",
    "def train_model(model, train_loader, val_loader, num_epochs, device, save_path=\"best_model.pth\", lr=0.01, use_tqdm=True, train_dataset=None, early_stop_patience=10):\n",
    "    model = model.to(device)\n",
    "    labels = torch.tensor([s[1] for s in train_dataset.samples], dtype=torch.long)\n",
    "    criterion = nn.CrossEntropyLoss()\n",
    "    optimizer = optim.Adam(model.parameters(), lr=lr, weight_decay=0)\n",
    "    warmup_epochs = 5  # You can adjust this\n",
    "    scheduler = ReduceLROnPlateau(optimizer, 'min', patience=7, factor=0.5)\n",
    "    history = {\n",
    "        'train_loss': [], 'train_acc': [],\n",
    "        'val_loss': [], 'val_acc': [],\n",
    "        'val_precision': [], 'val_recall': [], 'val_f1': []\n",
    "    }\n",
    "\n",
    "    best_f1 = 0.0\n",
    "    best_val_acc = 0.0\n",
    "    best_val_loss = float('inf')  # Initialize best_val_loss with infinity\n",
    "    best_model_path = save_path\n",
    "    no_improve_epochs = 0\n",
    "\n",
    "    for epoch in range(num_epochs):\n",
    "        model.train()\n",
    "        running_loss = 0.0\n",
    "        correct = 0\n",
    "        total = 0\n",
    "\n",
    "        train_bar = tqdm(train_loader, desc=f\"Epoch {epoch+1}/{num_epochs} [Train]\") if use_tqdm else train_loader\n",
    "        for inputs, labels in train_bar:\n",
    "            inputs, labels = inputs.to(device), labels.to(device)\n",
    "            optimizer.zero_grad()\n",
    "            outputs = model(inputs)\n",
    "            loss = criterion(outputs, labels)\n",
    "            loss.backward()\n",
    "            optimizer.step()\n",
    "\n",
    "            running_loss += loss.item() * inputs.size(0)\n",
    "            _, predicted = torch.max(outputs, 1)\n",
    "            total += labels.size(0)\n",
    "            correct += (predicted == labels).sum().item()\n",
    "            train_bar.set_postfix(loss=running_loss / total, acc=100. * correct / total)\n",
    "\n",
    "        epoch_train_loss = running_loss / len(train_loader.dataset)\n",
    "        epoch_train_acc = 100. * correct / total\n",
    "\n",
    "        # Validation\n",
    "        model.eval()\n",
    "        val_loss = 0.0\n",
    "        val_correct = 0\n",
    "        val_total = 0\n",
    "        all_preds = []\n",
    "        all_labels = []\n",
    "\n",
    "        val_bar = tqdm(val_loader, desc=f\"Epoch {epoch+1}/{num_epochs} [Val]\") if use_tqdm else val_loader\n",
    "        with torch.no_grad():\n",
    "            for inputs, labels in val_bar:\n",
    "                inputs, labels = inputs.to(device), labels.to(device)\n",
    "                outputs = model(inputs)\n",
    "                loss = criterion(outputs, labels)\n",
    "                val_loss += loss.item() * inputs.size(0)\n",
    "                _, predicted = torch.max(outputs, 1)\n",
    "                val_total += labels.size(0)\n",
    "                val_correct += (predicted == labels).sum().item()\n",
    "                all_preds.extend(predicted.cpu().numpy())\n",
    "                all_labels.extend(labels.cpu().numpy())\n",
    "                val_bar.set_postfix(loss=val_loss / val_total, acc=100. * val_correct / val_total)\n",
    "\n",
    "        epoch_val_loss = val_loss / len(val_loader.dataset)\n",
    "        epoch_val_acc = 100. * val_correct / val_total\n",
    "\n",
    "        precision, recall, f1, _ = precision_recall_fscore_support(\n",
    "            all_labels, all_preds, average='weighted', zero_division=0\n",
    "        )\n",
    "\n",
    "        history['train_loss'].append(epoch_train_loss)\n",
    "        history['train_acc'].append(epoch_train_acc)\n",
    "        history['val_loss'].append(epoch_val_loss)\n",
    "        history['val_acc'].append(epoch_val_acc)\n",
    "        history['val_precision'].append(precision)\n",
    "        history['val_recall'].append(recall)\n",
    "        history['val_f1'].append(f1)\n",
    "\n",
    "        print(f\"\\nEpoch {epoch+1}/{num_epochs}\")\n",
    "        print(f\"Train Loss: {epoch_train_loss:.4f}, Train Acc: {epoch_train_acc:.2f}%\")\n",
    "        print(f\"Val Loss: {epoch_val_loss:.4f}, Val Acc: {epoch_val_acc:.2f}%\")\n",
    "        print(f\"Val Precision: {precision:.4f}, Val Recall: {recall:.4f}, Val F1: {f1:.4f}\")\n",
    "\n",
    "        \n",
    "\n",
    "        # Save best model based on both accuracy and loss\n",
    "        if f1 > best_f1:\n",
    "            best_f1 = f1\n",
    "            torch.save(model.state_dict(), best_model_path)\n",
    "            print(f\"Best model saved with Val F1: {best_f1:.4f} at {best_model_path}\")\n",
    "            no_improve_epochs = 0  # reset early stopping counter\n",
    "        \n",
    "        # else:\n",
    "        #     no_improve_epochs += 1\n",
    "        #     if no_improve_epochs >= early_stop_patience:\n",
    "        #         print(f\"Early stopping triggered after {early_stop_patience} epochs without improvement.\")\n",
    "        #         break\n",
    "\n",
    "        torch.nn.utils.clip_grad_norm_(model.parameters(), max_norm=1.0)\n",
    "        scheduler.step(epoch_val_loss)\n",
    "\n",
    "    final_model_path = save_path.replace(\".pth\", \"_final.pth\")\n",
    "    torch.save(model.state_dict(), final_model_path)\n",
    "    print(f\"Final model saved at {final_model_path}\")\n",
    "\n",
    "    return history\n",
    "\n",
    "\n",
    "\n",
    "def test_model(model, test_loader, device, test_dataset=None):\n",
    "    \"\"\"\n",
    "    Test function to evaluate the model on a test dataset.\n",
    "\n",
    "    Args:\n",
    "        model: Trained CNN model\n",
    "        test_loader: DataLoader for test data\n",
    "        device: Device to test on ('cuda' or 'cpu')\n",
    "        test_dataset: Optional: dataset for calculating class weights (if needed)\n",
    "\n",
    "    Returns:\n",
    "        test_loss: Average test loss\n",
    "        test_acc: Test accuracy\n",
    "        precision: Weighted precision\n",
    "        recall: Weighted recall\n",
    "        f1: Weighted F1-score\n",
    "    \"\"\"\n",
    "    print(\"Testing\")\n",
    "    model.load_state_dict(torch.load(\"/kaggle/working/best_emotion_model.pth\"))\n",
    "\n",
    "    model = model.to(device)\n",
    "    model.eval()\n",
    "\n",
    "    labels = torch.tensor([s[1] for s in test_dataset.dataset.samples], dtype=torch.long)\n",
    "    criterion = nn.CrossEntropyLoss()\n",
    "    test_loss = 0.0\n",
    "    correct = 0\n",
    "    total = 0\n",
    "    all_preds = []\n",
    "    all_labels = []\n",
    "\n",
    "    test_bar = tqdm(test_loader, desc=\"Testing\")  # Add a progress bar for testing\n",
    "    with torch.no_grad():\n",
    "        for inputs, labels in test_bar:\n",
    "            inputs, labels = inputs.to(device), labels.to(device)\n",
    "            outputs = model(inputs)\n",
    "            loss = criterion(outputs, labels)\n",
    "            test_loss += loss.item() * inputs.size(0)\n",
    "            _, predicted = torch.max(outputs, 1)\n",
    "            total += labels.size(0)\n",
    "            correct += (predicted == labels).sum().item()\n",
    "            all_preds.extend(predicted.cpu().numpy())\n",
    "            all_labels.extend(labels.cpu().numpy())\n",
    "            test_bar.set_postfix(loss=test_loss / total, acc=100. * correct / total)\n",
    "\n",
    "    test_loss = test_loss / len(test_loader.dataset)\n",
    "    test_acc = 100. * correct / total\n",
    "\n",
    "    # Calculate precision, recall, and F1 score\n",
    "    precision, recall, f1, _ = precision_recall_fscore_support(\n",
    "        all_labels, all_preds, average='weighted', zero_division=0\n",
    "    )\n",
    "\n",
    "    print(f\"\\nTest Loss: {test_loss:.4f}, Test Acc: {test_acc:.2f}%\")\n",
    "    print(f\"Test Precision: {precision:.4f}, Test Recall: {recall:.4f}, Test F1: {f1:.4f}\")\n",
    "\n",
    "    return test_loss, test_acc, precision, recall, f1, all_preds, all_labels\n"
   ]
  },
  {
   "cell_type": "code",
   "execution_count": 8,
   "id": "1d0941c7",
   "metadata": {
    "execution": {
     "iopub.execute_input": "2025-07-18T14:37:02.115876Z",
     "iopub.status.busy": "2025-07-18T14:37:02.115641Z",
     "iopub.status.idle": "2025-07-18T14:37:02.118841Z",
     "shell.execute_reply": "2025-07-18T14:37:02.118305Z"
    },
    "papermill": {
     "duration": 0.006855,
     "end_time": "2025-07-18T14:37:02.119806",
     "exception": false,
     "start_time": "2025-07-18T14:37:02.112951",
     "status": "completed"
    },
    "tags": []
   },
   "outputs": [],
   "source": [
    "# class WeightedCrossEntropyLoss(nn.Module):\n",
    "#     def __init__(self, labels, device, num_classes=8):\n",
    "#         super().__init__()\n",
    "#         self.device = device\n",
    "#         self.num_classes = num_classes\n",
    "#         self.weights = self.__compute_weights(labels).to(device)\n",
    "#         self.loss = nn.CrossEntropyLoss(weight=self.weights)\n",
    "\n",
    "#     def __compute_weights(self, labels):\n",
    "#         class_counts = torch.bincount(labels, minlength=self.num_classes)\n",
    "#         total_samples = len(labels)\n",
    "#         weights = total_samples / (self.num_classes * class_counts.float())\n",
    "#         return weights\n",
    "\n",
    "#     def forward(self, outputs, targets):\n",
    "#         return self.loss(outputs, targets)\n"
   ]
  },
  {
   "cell_type": "code",
   "execution_count": 9,
   "id": "951437c6",
   "metadata": {
    "execution": {
     "iopub.execute_input": "2025-07-18T14:37:02.124769Z",
     "iopub.status.busy": "2025-07-18T14:37:02.124591Z",
     "iopub.status.idle": "2025-07-18T14:37:02.131149Z",
     "shell.execute_reply": "2025-07-18T14:37:02.130645Z"
    },
    "papermill": {
     "duration": 0.01012,
     "end_time": "2025-07-18T14:37:02.132164",
     "exception": false,
     "start_time": "2025-07-18T14:37:02.122044",
     "status": "completed"
    },
    "tags": []
   },
   "outputs": [],
   "source": [
    "import numpy as np\n",
    "import matplotlib.pyplot as plt\n",
    "import seaborn as sns\n",
    "from sklearn.metrics import confusion_matrix, classification_report\n",
    "\n",
    "def plot_loss_curve(train_loss, val_loss):\n",
    "    \"\"\"    \n",
    "    Plots the training and validation loss curves.\n",
    "    \n",
    "    Parameters:       \n",
    "    - train_loss: List of training loss values per epoch\n",
    "    - val_loss: List of validation loss values per epoch\n",
    "    \"\"\"\n",
    "    #Loss curve , still don't know list names \n",
    "    plt.figure(figsize=(10, 5))\n",
    "    plt.plot(train_loss, label='Train Loss')\n",
    "    plt.plot(val_loss, label='Validation Loss')\n",
    "    plt.xlabel('Epoch')\n",
    "    plt.ylabel('Loss')\n",
    "    plt.title('Model Loss per Epoch')\n",
    "    plt.legend()\n",
    "    plt.grid(True)\n",
    "    plt.show()\n",
    "\n",
    "def plot_accuracy_curve(train_acc, val_acc):\n",
    "    \"\"\"\n",
    "    Plots training and validation accuracy per epoch.\n",
    "    \n",
    "    Args:\n",
    "        train_acc (list): Training accuracy values\n",
    "        val_acc (list): Validation accuracy values\n",
    "    \"\"\"\n",
    "    plt.figure(figsize=(10, 5))\n",
    "    plt.plot(train_acc, label='Train Accuracy', marker='o')\n",
    "    plt.plot(val_acc, label='Validation Accuracy', marker='o')\n",
    "    plt.xlabel('Epoch')\n",
    "    plt.ylabel('Accuracy (%)')\n",
    "    plt.title('Model Accuracy per Epoch')\n",
    "    plt.legend()\n",
    "    plt.grid(True)\n",
    "    plt.tight_layout()\n",
    "    plt.show()\n",
    "\n",
    "def plot_confusion_matrix(y_true, y_pred, class_names):\n",
    "    cm = confusion_matrix(y_true, y_pred)\n",
    "    plt.figure(figsize=(6, 5))\n",
    "    sns.heatmap(cm, annot=True, fmt='d', cmap='Blues',\n",
    "                xticklabels=class_names, yticklabels=class_names)\n",
    "    plt.xlabel('Predicted Label')\n",
    "    plt.ylabel('True Label')\n",
    "    plt.title('Confusion Matrix')\n",
    "    plt.tight_layout()\n",
    "    plt.show()\n",
    "\n",
    "    print(\"\\nClassification Report:\")\n",
    "    print(classification_report(y_true, y_pred, target_names=class_names))\n",
    "\n"
   ]
  },
  {
   "cell_type": "code",
   "execution_count": 10,
   "id": "6159d825",
   "metadata": {
    "execution": {
     "iopub.execute_input": "2025-07-18T14:37:02.137071Z",
     "iopub.status.busy": "2025-07-18T14:37:02.136885Z",
     "iopub.status.idle": "2025-07-18T15:20:15.464701Z",
     "shell.execute_reply": "2025-07-18T15:20:15.464037Z"
    },
    "papermill": {
     "duration": 2593.331992,
     "end_time": "2025-07-18T15:20:15.466224",
     "exception": false,
     "start_time": "2025-07-18T14:37:02.134232",
     "status": "completed"
    },
    "tags": []
   },
   "outputs": [
    {
     "name": "stdout",
     "output_type": "stream",
     "text": [
      "Train class distribution:\n",
      "6: 6187\n"
     ]
    },
    {
     "name": "stderr",
     "output_type": "stream",
     "text": [
      "/usr/local/lib/python3.11/dist-packages/torchvision/models/_utils.py:208: UserWarning: The parameter 'pretrained' is deprecated since 0.13 and may be removed in the future, please use 'weights' instead.\n",
      "  warnings.warn(\n",
      "/usr/local/lib/python3.11/dist-packages/torchvision/models/_utils.py:223: UserWarning: Arguments other than a weight enum or `None` for 'weights' are deprecated since 0.13 and may be removed in the future. The current behavior is equivalent to passing `weights=VGG16_Weights.IMAGENET1K_V1`. You can also use `weights=VGG16_Weights.DEFAULT` to get the most up-to-date weights.\n",
      "  warnings.warn(msg)\n",
      "Downloading: \"https://download.pytorch.org/models/vgg16-397923af.pth\" to /root/.cache/torch/hub/checkpoints/vgg16-397923af.pth\n",
      "100%|██████████| 528M/528M [00:02<00:00, 187MB/s]\n",
      "Epoch 1/80 [Train]: 100%|██████████| 457/457 [00:30<00:00, 14.95it/s, acc=48, loss=1.37]\n",
      "Epoch 1/80 [Val]: 100%|██████████| 57/57 [00:05<00:00,  9.96it/s, acc=69.8, loss=0.837]\n"
     ]
    },
    {
     "name": "stdout",
     "output_type": "stream",
     "text": [
      "\n",
      "Epoch 1/80\n",
      "Train Loss: 1.3746, Train Acc: 48.01%\n",
      "Val Loss: 0.8366, Val Acc: 69.82%\n",
      "Val Precision: 0.6929, Val Recall: 0.6982, Val F1: 0.6837\n",
      "Best model saved with Val F1: 0.6837 at /kaggle/working/best_emotion_model.pth\n"
     ]
    },
    {
     "name": "stderr",
     "output_type": "stream",
     "text": [
      "Epoch 2/80 [Train]: 100%|██████████| 457/457 [00:29<00:00, 15.60it/s, acc=69.2, loss=0.861]\n",
      "Epoch 2/80 [Val]: 100%|██████████| 57/57 [00:02<00:00, 23.72it/s, acc=73, loss=0.739]\n"
     ]
    },
    {
     "name": "stdout",
     "output_type": "stream",
     "text": [
      "\n",
      "Epoch 2/80\n",
      "Train Loss: 0.8607, Train Acc: 69.21%\n",
      "Val Loss: 0.7389, Val Acc: 72.96%\n",
      "Val Precision: 0.7442, Val Recall: 0.7296, Val F1: 0.7298\n",
      "Best model saved with Val F1: 0.7298 at /kaggle/working/best_emotion_model.pth\n"
     ]
    },
    {
     "name": "stderr",
     "output_type": "stream",
     "text": [
      "Epoch 3/80 [Train]: 100%|██████████| 457/457 [00:29<00:00, 15.56it/s, acc=74, loss=0.724]\n",
      "Epoch 3/80 [Val]: 100%|██████████| 57/57 [00:02<00:00, 24.76it/s, acc=78.6, loss=0.613]\n"
     ]
    },
    {
     "name": "stdout",
     "output_type": "stream",
     "text": [
      "\n",
      "Epoch 3/80\n",
      "Train Loss: 0.7239, Train Acc: 74.03%\n",
      "Val Loss: 0.6135, Val Acc: 78.56%\n",
      "Val Precision: 0.7879, Val Recall: 0.7856, Val F1: 0.7790\n",
      "Best model saved with Val F1: 0.7790 at /kaggle/working/best_emotion_model.pth\n"
     ]
    },
    {
     "name": "stderr",
     "output_type": "stream",
     "text": [
      "Epoch 4/80 [Train]: 100%|██████████| 457/457 [00:29<00:00, 15.55it/s, acc=77.4, loss=0.628]\n",
      "Epoch 4/80 [Val]: 100%|██████████| 57/57 [00:02<00:00, 24.66it/s, acc=78.5, loss=0.593]\n"
     ]
    },
    {
     "name": "stdout",
     "output_type": "stream",
     "text": [
      "\n",
      "Epoch 4/80\n",
      "Train Loss: 0.6276, Train Acc: 77.37%\n",
      "Val Loss: 0.5925, Val Acc: 78.50%\n",
      "Val Precision: 0.7951, Val Recall: 0.7850, Val F1: 0.7829\n",
      "Best model saved with Val F1: 0.7829 at /kaggle/working/best_emotion_model.pth\n"
     ]
    },
    {
     "name": "stderr",
     "output_type": "stream",
     "text": [
      "Epoch 5/80 [Train]: 100%|██████████| 457/457 [00:29<00:00, 15.62it/s, acc=79.7, loss=0.567]\n",
      "Epoch 5/80 [Val]: 100%|██████████| 57/57 [00:02<00:00, 25.20it/s, acc=80.4, loss=0.569]\n"
     ]
    },
    {
     "name": "stdout",
     "output_type": "stream",
     "text": [
      "\n",
      "Epoch 5/80\n",
      "Train Loss: 0.5672, Train Acc: 79.69%\n",
      "Val Loss: 0.5688, Val Acc: 80.37%\n",
      "Val Precision: 0.8087, Val Recall: 0.8037, Val F1: 0.8030\n",
      "Best model saved with Val F1: 0.8030 at /kaggle/working/best_emotion_model.pth\n"
     ]
    },
    {
     "name": "stderr",
     "output_type": "stream",
     "text": [
      "Epoch 6/80 [Train]: 100%|██████████| 457/457 [00:28<00:00, 15.79it/s, acc=81.5, loss=0.509]\n",
      "Epoch 6/80 [Val]: 100%|██████████| 57/57 [00:02<00:00, 23.25it/s, acc=80.8, loss=0.551]\n"
     ]
    },
    {
     "name": "stdout",
     "output_type": "stream",
     "text": [
      "\n",
      "Epoch 6/80\n",
      "Train Loss: 0.5088, Train Acc: 81.48%\n",
      "Val Loss: 0.5509, Val Acc: 80.84%\n",
      "Val Precision: 0.8122, Val Recall: 0.8084, Val F1: 0.8089\n",
      "Best model saved with Val F1: 0.8089 at /kaggle/working/best_emotion_model.pth\n"
     ]
    },
    {
     "name": "stderr",
     "output_type": "stream",
     "text": [
      "Epoch 7/80 [Train]: 100%|██████████| 457/457 [00:28<00:00, 15.78it/s, acc=83.6, loss=0.459]\n",
      "Epoch 7/80 [Val]: 100%|██████████| 57/57 [00:02<00:00, 22.74it/s, acc=80.6, loss=0.558]\n"
     ]
    },
    {
     "name": "stdout",
     "output_type": "stream",
     "text": [
      "\n",
      "Epoch 7/80\n",
      "Train Loss: 0.4594, Train Acc: 83.63%\n",
      "Val Loss: 0.5584, Val Acc: 80.57%\n",
      "Val Precision: 0.8072, Val Recall: 0.8057, Val F1: 0.8035\n"
     ]
    },
    {
     "name": "stderr",
     "output_type": "stream",
     "text": [
      "Epoch 8/80 [Train]: 100%|██████████| 457/457 [00:28<00:00, 15.81it/s, acc=85.3, loss=0.414]\n",
      "Epoch 8/80 [Val]: 100%|██████████| 57/57 [00:02<00:00, 23.17it/s, acc=80.1, loss=0.647]\n"
     ]
    },
    {
     "name": "stdout",
     "output_type": "stream",
     "text": [
      "\n",
      "Epoch 8/80\n",
      "Train Loss: 0.4139, Train Acc: 85.32%\n",
      "Val Loss: 0.6467, Val Acc: 80.13%\n",
      "Val Precision: 0.8058, Val Recall: 0.8013, Val F1: 0.7976\n"
     ]
    },
    {
     "name": "stderr",
     "output_type": "stream",
     "text": [
      "Epoch 9/80 [Train]: 100%|██████████| 457/457 [00:28<00:00, 15.80it/s, acc=86.9, loss=0.368]\n",
      "Epoch 9/80 [Val]: 100%|██████████| 57/57 [00:02<00:00, 23.36it/s, acc=80.6, loss=0.586]\n"
     ]
    },
    {
     "name": "stdout",
     "output_type": "stream",
     "text": [
      "\n",
      "Epoch 9/80\n",
      "Train Loss: 0.3681, Train Acc: 86.87%\n",
      "Val Loss: 0.5862, Val Acc: 80.57%\n",
      "Val Precision: 0.8115, Val Recall: 0.8057, Val F1: 0.8050\n"
     ]
    },
    {
     "name": "stderr",
     "output_type": "stream",
     "text": [
      "Epoch 10/80 [Train]: 100%|██████████| 457/457 [00:28<00:00, 15.80it/s, acc=88.1, loss=0.338]\n",
      "Epoch 10/80 [Val]: 100%|██████████| 57/57 [00:02<00:00, 21.81it/s, acc=80.8, loss=0.607]\n"
     ]
    },
    {
     "name": "stdout",
     "output_type": "stream",
     "text": [
      "\n",
      "Epoch 10/80\n",
      "Train Loss: 0.3384, Train Acc: 88.15%\n",
      "Val Loss: 0.6073, Val Acc: 80.79%\n",
      "Val Precision: 0.8128, Val Recall: 0.8079, Val F1: 0.8087\n"
     ]
    },
    {
     "name": "stderr",
     "output_type": "stream",
     "text": [
      "Epoch 11/80 [Train]: 100%|██████████| 457/457 [00:29<00:00, 15.73it/s, acc=89.7, loss=0.298]\n",
      "Epoch 11/80 [Val]: 100%|██████████| 57/57 [00:02<00:00, 20.13it/s, acc=80.4, loss=0.678]\n"
     ]
    },
    {
     "name": "stdout",
     "output_type": "stream",
     "text": [
      "\n",
      "Epoch 11/80\n",
      "Train Loss: 0.2981, Train Acc: 89.69%\n",
      "Val Loss: 0.6783, Val Acc: 80.43%\n",
      "Val Precision: 0.8082, Val Recall: 0.8043, Val F1: 0.7980\n"
     ]
    },
    {
     "name": "stderr",
     "output_type": "stream",
     "text": [
      "Epoch 12/80 [Train]: 100%|██████████| 457/457 [00:28<00:00, 15.78it/s, acc=90.6, loss=0.269]\n",
      "Epoch 12/80 [Val]: 100%|██████████| 57/57 [00:02<00:00, 23.46it/s, acc=80.1, loss=0.696]\n"
     ]
    },
    {
     "name": "stdout",
     "output_type": "stream",
     "text": [
      "\n",
      "Epoch 12/80\n",
      "Train Loss: 0.2693, Train Acc: 90.58%\n",
      "Val Loss: 0.6960, Val Acc: 80.13%\n",
      "Val Precision: 0.8032, Val Recall: 0.8013, Val F1: 0.7963\n"
     ]
    },
    {
     "name": "stderr",
     "output_type": "stream",
     "text": [
      "Epoch 13/80 [Train]: 100%|██████████| 457/457 [00:28<00:00, 15.78it/s, acc=91.2, loss=0.256]\n",
      "Epoch 13/80 [Val]: 100%|██████████| 57/57 [00:02<00:00, 23.44it/s, acc=79.7, loss=0.687]\n"
     ]
    },
    {
     "name": "stdout",
     "output_type": "stream",
     "text": [
      "\n",
      "Epoch 13/80\n",
      "Train Loss: 0.2559, Train Acc: 91.20%\n",
      "Val Loss: 0.6873, Val Acc: 79.71%\n",
      "Val Precision: 0.8027, Val Recall: 0.7971, Val F1: 0.7940\n"
     ]
    },
    {
     "name": "stderr",
     "output_type": "stream",
     "text": [
      "Epoch 14/80 [Train]: 100%|██████████| 457/457 [00:29<00:00, 15.76it/s, acc=92, loss=0.229]\n",
      "Epoch 14/80 [Val]: 100%|██████████| 57/57 [00:02<00:00, 22.49it/s, acc=81.7, loss=0.677]\n"
     ]
    },
    {
     "name": "stdout",
     "output_type": "stream",
     "text": [
      "\n",
      "Epoch 14/80\n",
      "Train Loss: 0.2290, Train Acc: 92.04%\n",
      "Val Loss: 0.6774, Val Acc: 81.67%\n",
      "Val Precision: 0.8175, Val Recall: 0.8167, Val F1: 0.8128\n",
      "Best model saved with Val F1: 0.8128 at /kaggle/working/best_emotion_model.pth\n"
     ]
    },
    {
     "name": "stderr",
     "output_type": "stream",
     "text": [
      "Epoch 15/80 [Train]: 100%|██████████| 457/457 [00:28<00:00, 15.78it/s, acc=95.2, loss=0.14]\n",
      "Epoch 15/80 [Val]: 100%|██████████| 57/57 [00:02<00:00, 22.83it/s, acc=82.3, loss=0.758]\n"
     ]
    },
    {
     "name": "stdout",
     "output_type": "stream",
     "text": [
      "\n",
      "Epoch 15/80\n",
      "Train Loss: 0.1403, Train Acc: 95.17%\n",
      "Val Loss: 0.7579, Val Acc: 82.30%\n",
      "Val Precision: 0.8221, Val Recall: 0.8230, Val F1: 0.8194\n",
      "Best model saved with Val F1: 0.8194 at /kaggle/working/best_emotion_model.pth\n"
     ]
    },
    {
     "name": "stderr",
     "output_type": "stream",
     "text": [
      "Epoch 16/80 [Train]: 100%|██████████| 457/457 [00:28<00:00, 15.85it/s, acc=95.6, loss=0.125]\n",
      "Epoch 16/80 [Val]: 100%|██████████| 57/57 [00:02<00:00, 23.58it/s, acc=82.9, loss=0.699]\n"
     ]
    },
    {
     "name": "stdout",
     "output_type": "stream",
     "text": [
      "\n",
      "Epoch 16/80\n",
      "Train Loss: 0.1248, Train Acc: 95.65%\n",
      "Val Loss: 0.6988, Val Acc: 82.94%\n",
      "Val Precision: 0.8272, Val Recall: 0.8294, Val F1: 0.8272\n",
      "Best model saved with Val F1: 0.8272 at /kaggle/working/best_emotion_model.pth\n"
     ]
    },
    {
     "name": "stderr",
     "output_type": "stream",
     "text": [
      "Epoch 17/80 [Train]: 100%|██████████| 457/457 [00:28<00:00, 15.85it/s, acc=96.4, loss=0.104]\n",
      "Epoch 17/80 [Val]: 100%|██████████| 57/57 [00:02<00:00, 24.30it/s, acc=81.5, loss=0.846]\n"
     ]
    },
    {
     "name": "stdout",
     "output_type": "stream",
     "text": [
      "\n",
      "Epoch 17/80\n",
      "Train Loss: 0.1040, Train Acc: 96.42%\n",
      "Val Loss: 0.8461, Val Acc: 81.48%\n",
      "Val Precision: 0.8153, Val Recall: 0.8148, Val F1: 0.8114\n"
     ]
    },
    {
     "name": "stderr",
     "output_type": "stream",
     "text": [
      "Epoch 18/80 [Train]: 100%|██████████| 457/457 [00:28<00:00, 15.85it/s, acc=96.7, loss=0.0973]\n",
      "Epoch 18/80 [Val]: 100%|██████████| 57/57 [00:02<00:00, 22.58it/s, acc=82, loss=0.856]\n"
     ]
    },
    {
     "name": "stdout",
     "output_type": "stream",
     "text": [
      "\n",
      "Epoch 18/80\n",
      "Train Loss: 0.0973, Train Acc: 96.65%\n",
      "Val Loss: 0.8564, Val Acc: 82.00%\n",
      "Val Precision: 0.8206, Val Recall: 0.8200, Val F1: 0.8187\n"
     ]
    },
    {
     "name": "stderr",
     "output_type": "stream",
     "text": [
      "Epoch 19/80 [Train]: 100%|██████████| 457/457 [00:28<00:00, 15.84it/s, acc=96.9, loss=0.0916]\n",
      "Epoch 19/80 [Val]: 100%|██████████| 57/57 [00:02<00:00, 22.69it/s, acc=82, loss=0.855]\n"
     ]
    },
    {
     "name": "stdout",
     "output_type": "stream",
     "text": [
      "\n",
      "Epoch 19/80\n",
      "Train Loss: 0.0916, Train Acc: 96.91%\n",
      "Val Loss: 0.8546, Val Acc: 82.03%\n",
      "Val Precision: 0.8207, Val Recall: 0.8203, Val F1: 0.8200\n"
     ]
    },
    {
     "name": "stderr",
     "output_type": "stream",
     "text": [
      "Epoch 20/80 [Train]: 100%|██████████| 457/457 [00:28<00:00, 15.84it/s, acc=97, loss=0.087]\n",
      "Epoch 20/80 [Val]: 100%|██████████| 57/57 [00:02<00:00, 22.91it/s, acc=81.9, loss=0.898]\n"
     ]
    },
    {
     "name": "stdout",
     "output_type": "stream",
     "text": [
      "\n",
      "Epoch 20/80\n",
      "Train Loss: 0.0870, Train Acc: 97.03%\n",
      "Val Loss: 0.8977, Val Acc: 81.95%\n",
      "Val Precision: 0.8254, Val Recall: 0.8195, Val F1: 0.8183\n"
     ]
    },
    {
     "name": "stderr",
     "output_type": "stream",
     "text": [
      "Epoch 21/80 [Train]: 100%|██████████| 457/457 [00:28<00:00, 15.80it/s, acc=97.3, loss=0.0781]\n",
      "Epoch 21/80 [Val]: 100%|██████████| 57/57 [00:02<00:00, 22.06it/s, acc=81.9, loss=0.842]\n"
     ]
    },
    {
     "name": "stdout",
     "output_type": "stream",
     "text": [
      "\n",
      "Epoch 21/80\n",
      "Train Loss: 0.0781, Train Acc: 97.33%\n",
      "Val Loss: 0.8417, Val Acc: 81.92%\n",
      "Val Precision: 0.8200, Val Recall: 0.8192, Val F1: 0.8182\n"
     ]
    },
    {
     "name": "stderr",
     "output_type": "stream",
     "text": [
      "Epoch 22/80 [Train]: 100%|██████████| 457/457 [00:28<00:00, 15.78it/s, acc=97.6, loss=0.0731]\n",
      "Epoch 22/80 [Val]: 100%|██████████| 57/57 [00:02<00:00, 23.80it/s, acc=82.3, loss=0.917]\n"
     ]
    },
    {
     "name": "stdout",
     "output_type": "stream",
     "text": [
      "\n",
      "Epoch 22/80\n",
      "Train Loss: 0.0731, Train Acc: 97.61%\n",
      "Val Loss: 0.9171, Val Acc: 82.30%\n",
      "Val Precision: 0.8228, Val Recall: 0.8230, Val F1: 0.8223\n"
     ]
    },
    {
     "name": "stderr",
     "output_type": "stream",
     "text": [
      "Epoch 23/80 [Train]: 100%|██████████| 457/457 [00:28<00:00, 15.77it/s, acc=98.5, loss=0.0457]\n",
      "Epoch 23/80 [Val]: 100%|██████████| 57/57 [00:02<00:00, 25.27it/s, acc=82.2, loss=1.05]\n"
     ]
    },
    {
     "name": "stdout",
     "output_type": "stream",
     "text": [
      "\n",
      "Epoch 23/80\n",
      "Train Loss: 0.0457, Train Acc: 98.53%\n",
      "Val Loss: 1.0541, Val Acc: 82.22%\n",
      "Val Precision: 0.8232, Val Recall: 0.8222, Val F1: 0.8194\n"
     ]
    },
    {
     "name": "stderr",
     "output_type": "stream",
     "text": [
      "Epoch 24/80 [Train]: 100%|██████████| 457/457 [00:28<00:00, 15.80it/s, acc=98.8, loss=0.0372]\n",
      "Epoch 24/80 [Val]: 100%|██████████| 57/57 [00:02<00:00, 24.98it/s, acc=82.9, loss=1.02]\n"
     ]
    },
    {
     "name": "stdout",
     "output_type": "stream",
     "text": [
      "\n",
      "Epoch 24/80\n",
      "Train Loss: 0.0372, Train Acc: 98.78%\n",
      "Val Loss: 1.0165, Val Acc: 82.86%\n",
      "Val Precision: 0.8296, Val Recall: 0.8286, Val F1: 0.8263\n"
     ]
    },
    {
     "name": "stderr",
     "output_type": "stream",
     "text": [
      "Epoch 25/80 [Train]: 100%|██████████| 457/457 [00:28<00:00, 15.86it/s, acc=98.8, loss=0.0355]\n",
      "Epoch 25/80 [Val]: 100%|██████████| 57/57 [00:02<00:00, 24.78it/s, acc=82.4, loss=1.08]\n"
     ]
    },
    {
     "name": "stdout",
     "output_type": "stream",
     "text": [
      "\n",
      "Epoch 25/80\n",
      "Train Loss: 0.0355, Train Acc: 98.80%\n",
      "Val Loss: 1.0787, Val Acc: 82.41%\n",
      "Val Precision: 0.8252, Val Recall: 0.8241, Val F1: 0.8226\n"
     ]
    },
    {
     "name": "stderr",
     "output_type": "stream",
     "text": [
      "Epoch 26/80 [Train]: 100%|██████████| 457/457 [00:28<00:00, 15.80it/s, acc=98.9, loss=0.0325]\n",
      "Epoch 26/80 [Val]: 100%|██████████| 57/57 [00:02<00:00, 23.25it/s, acc=81.9, loss=1.23]\n"
     ]
    },
    {
     "name": "stdout",
     "output_type": "stream",
     "text": [
      "\n",
      "Epoch 26/80\n",
      "Train Loss: 0.0325, Train Acc: 98.90%\n",
      "Val Loss: 1.2305, Val Acc: 81.92%\n",
      "Val Precision: 0.8226, Val Recall: 0.8192, Val F1: 0.8168\n"
     ]
    },
    {
     "name": "stderr",
     "output_type": "stream",
     "text": [
      "Epoch 27/80 [Train]: 100%|██████████| 457/457 [00:29<00:00, 15.74it/s, acc=98.9, loss=0.0333]\n",
      "Epoch 27/80 [Val]: 100%|██████████| 57/57 [00:02<00:00, 24.36it/s, acc=82.1, loss=1.15]\n"
     ]
    },
    {
     "name": "stdout",
     "output_type": "stream",
     "text": [
      "\n",
      "Epoch 27/80\n",
      "Train Loss: 0.0333, Train Acc: 98.85%\n",
      "Val Loss: 1.1512, Val Acc: 82.08%\n",
      "Val Precision: 0.8214, Val Recall: 0.8208, Val F1: 0.8191\n"
     ]
    },
    {
     "name": "stderr",
     "output_type": "stream",
     "text": [
      "Epoch 28/80 [Train]: 100%|██████████| 457/457 [00:28<00:00, 15.83it/s, acc=98.9, loss=0.0317]\n",
      "Epoch 28/80 [Val]: 100%|██████████| 57/57 [00:02<00:00, 22.56it/s, acc=82.6, loss=1.1]\n"
     ]
    },
    {
     "name": "stdout",
     "output_type": "stream",
     "text": [
      "\n",
      "Epoch 28/80\n",
      "Train Loss: 0.0317, Train Acc: 98.95%\n",
      "Val Loss: 1.1035, Val Acc: 82.55%\n",
      "Val Precision: 0.8241, Val Recall: 0.8255, Val F1: 0.8233\n"
     ]
    },
    {
     "name": "stderr",
     "output_type": "stream",
     "text": [
      "Epoch 29/80 [Train]: 100%|██████████| 457/457 [00:28<00:00, 15.83it/s, acc=99, loss=0.0315]\n",
      "Epoch 29/80 [Val]: 100%|██████████| 57/57 [00:02<00:00, 23.84it/s, acc=82.5, loss=1.14]\n"
     ]
    },
    {
     "name": "stdout",
     "output_type": "stream",
     "text": [
      "\n",
      "Epoch 29/80\n",
      "Train Loss: 0.0315, Train Acc: 99.04%\n",
      "Val Loss: 1.1353, Val Acc: 82.52%\n",
      "Val Precision: 0.8256, Val Recall: 0.8252, Val F1: 0.8225\n"
     ]
    },
    {
     "name": "stderr",
     "output_type": "stream",
     "text": [
      "Epoch 30/80 [Train]: 100%|██████████| 457/457 [00:28<00:00, 15.78it/s, acc=99, loss=0.0287]\n",
      "Epoch 30/80 [Val]: 100%|██████████| 57/57 [00:02<00:00, 24.92it/s, acc=82.4, loss=1.15]\n"
     ]
    },
    {
     "name": "stdout",
     "output_type": "stream",
     "text": [
      "\n",
      "Epoch 30/80\n",
      "Train Loss: 0.0287, Train Acc: 99.05%\n",
      "Val Loss: 1.1493, Val Acc: 82.44%\n",
      "Val Precision: 0.8248, Val Recall: 0.8244, Val F1: 0.8219\n"
     ]
    },
    {
     "name": "stderr",
     "output_type": "stream",
     "text": [
      "Epoch 31/80 [Train]: 100%|██████████| 457/457 [00:28<00:00, 15.81it/s, acc=99.4, loss=0.0191]\n",
      "Epoch 31/80 [Val]: 100%|██████████| 57/57 [00:02<00:00, 23.90it/s, acc=82.4, loss=1.27]\n"
     ]
    },
    {
     "name": "stdout",
     "output_type": "stream",
     "text": [
      "\n",
      "Epoch 31/80\n",
      "Train Loss: 0.0191, Train Acc: 99.37%\n",
      "Val Loss: 1.2745, Val Acc: 82.41%\n",
      "Val Precision: 0.8241, Val Recall: 0.8241, Val F1: 0.8219\n"
     ]
    },
    {
     "name": "stderr",
     "output_type": "stream",
     "text": [
      "Epoch 32/80 [Train]: 100%|██████████| 457/457 [00:28<00:00, 15.81it/s, acc=99.6, loss=0.0136]\n",
      "Epoch 32/80 [Val]: 100%|██████████| 57/57 [00:02<00:00, 25.07it/s, acc=82.6, loss=1.3]\n"
     ]
    },
    {
     "name": "stdout",
     "output_type": "stream",
     "text": [
      "\n",
      "Epoch 32/80\n",
      "Train Loss: 0.0136, Train Acc: 99.56%\n",
      "Val Loss: 1.2976, Val Acc: 82.64%\n",
      "Val Precision: 0.8268, Val Recall: 0.8264, Val F1: 0.8245\n"
     ]
    },
    {
     "name": "stderr",
     "output_type": "stream",
     "text": [
      "Epoch 33/80 [Train]: 100%|██████████| 457/457 [00:28<00:00, 15.79it/s, acc=99.5, loss=0.0142]\n",
      "Epoch 33/80 [Val]: 100%|██████████| 57/57 [00:02<00:00, 25.34it/s, acc=82.3, loss=1.29]\n"
     ]
    },
    {
     "name": "stdout",
     "output_type": "stream",
     "text": [
      "\n",
      "Epoch 33/80\n",
      "Train Loss: 0.0142, Train Acc: 99.52%\n",
      "Val Loss: 1.2873, Val Acc: 82.30%\n",
      "Val Precision: 0.8232, Val Recall: 0.8230, Val F1: 0.8215\n"
     ]
    },
    {
     "name": "stderr",
     "output_type": "stream",
     "text": [
      "Epoch 34/80 [Train]: 100%|██████████| 457/457 [00:28<00:00, 15.78it/s, acc=99.5, loss=0.0136]\n",
      "Epoch 34/80 [Val]: 100%|██████████| 57/57 [00:02<00:00, 25.01it/s, acc=82.3, loss=1.28]\n"
     ]
    },
    {
     "name": "stdout",
     "output_type": "stream",
     "text": [
      "\n",
      "Epoch 34/80\n",
      "Train Loss: 0.0136, Train Acc: 99.54%\n",
      "Val Loss: 1.2768, Val Acc: 82.30%\n",
      "Val Precision: 0.8226, Val Recall: 0.8230, Val F1: 0.8217\n"
     ]
    },
    {
     "name": "stderr",
     "output_type": "stream",
     "text": [
      "Epoch 35/80 [Train]: 100%|██████████| 457/457 [00:28<00:00, 15.83it/s, acc=99.6, loss=0.0122]\n",
      "Epoch 35/80 [Val]: 100%|██████████| 57/57 [00:02<00:00, 25.16it/s, acc=82.5, loss=1.33]\n"
     ]
    },
    {
     "name": "stdout",
     "output_type": "stream",
     "text": [
      "\n",
      "Epoch 35/80\n",
      "Train Loss: 0.0122, Train Acc: 99.62%\n",
      "Val Loss: 1.3286, Val Acc: 82.47%\n",
      "Val Precision: 0.8270, Val Recall: 0.8247, Val F1: 0.8236\n"
     ]
    },
    {
     "name": "stderr",
     "output_type": "stream",
     "text": [
      "Epoch 36/80 [Train]: 100%|██████████| 457/457 [00:28<00:00, 15.77it/s, acc=99.5, loss=0.0148]\n",
      "Epoch 36/80 [Val]: 100%|██████████| 57/57 [00:02<00:00, 24.19it/s, acc=82.4, loss=1.29]\n"
     ]
    },
    {
     "name": "stdout",
     "output_type": "stream",
     "text": [
      "\n",
      "Epoch 36/80\n",
      "Train Loss: 0.0148, Train Acc: 99.53%\n",
      "Val Loss: 1.2915, Val Acc: 82.41%\n",
      "Val Precision: 0.8227, Val Recall: 0.8241, Val F1: 0.8219\n"
     ]
    },
    {
     "name": "stderr",
     "output_type": "stream",
     "text": [
      "Epoch 37/80 [Train]: 100%|██████████| 457/457 [00:28<00:00, 15.81it/s, acc=99.6, loss=0.0113]\n",
      "Epoch 37/80 [Val]: 100%|██████████| 57/57 [00:02<00:00, 22.25it/s, acc=82.4, loss=1.38]\n"
     ]
    },
    {
     "name": "stdout",
     "output_type": "stream",
     "text": [
      "\n",
      "Epoch 37/80\n",
      "Train Loss: 0.0113, Train Acc: 99.63%\n",
      "Val Loss: 1.3808, Val Acc: 82.36%\n",
      "Val Precision: 0.8248, Val Recall: 0.8236, Val F1: 0.8223\n"
     ]
    },
    {
     "name": "stderr",
     "output_type": "stream",
     "text": [
      "Epoch 38/80 [Train]: 100%|██████████| 457/457 [00:28<00:00, 15.80it/s, acc=99.6, loss=0.0113]\n",
      "Epoch 38/80 [Val]: 100%|██████████| 57/57 [00:02<00:00, 22.52it/s, acc=82.6, loss=1.36]\n"
     ]
    },
    {
     "name": "stdout",
     "output_type": "stream",
     "text": [
      "\n",
      "Epoch 38/80\n",
      "Train Loss: 0.0113, Train Acc: 99.63%\n",
      "Val Loss: 1.3648, Val Acc: 82.55%\n",
      "Val Precision: 0.8233, Val Recall: 0.8255, Val F1: 0.8238\n"
     ]
    },
    {
     "name": "stderr",
     "output_type": "stream",
     "text": [
      "Epoch 39/80 [Train]: 100%|██████████| 457/457 [00:28<00:00, 15.80it/s, acc=99.7, loss=0.00982]\n",
      "Epoch 39/80 [Val]: 100%|██████████| 57/57 [00:02<00:00, 25.73it/s, acc=83, loss=1.4]\n"
     ]
    },
    {
     "name": "stdout",
     "output_type": "stream",
     "text": [
      "\n",
      "Epoch 39/80\n",
      "Train Loss: 0.0098, Train Acc: 99.70%\n",
      "Val Loss: 1.4010, Val Acc: 82.97%\n",
      "Val Precision: 0.8287, Val Recall: 0.8297, Val F1: 0.8278\n",
      "Best model saved with Val F1: 0.8278 at /kaggle/working/best_emotion_model.pth\n"
     ]
    },
    {
     "name": "stderr",
     "output_type": "stream",
     "text": [
      "Epoch 40/80 [Train]: 100%|██████████| 457/457 [00:28<00:00, 15.77it/s, acc=99.8, loss=0.00766]\n",
      "Epoch 40/80 [Val]: 100%|██████████| 57/57 [00:02<00:00, 23.54it/s, acc=82.2, loss=1.45]\n"
     ]
    },
    {
     "name": "stdout",
     "output_type": "stream",
     "text": [
      "\n",
      "Epoch 40/80\n",
      "Train Loss: 0.0077, Train Acc: 99.77%\n",
      "Val Loss: 1.4526, Val Acc: 82.25%\n",
      "Val Precision: 0.8240, Val Recall: 0.8225, Val F1: 0.8211\n"
     ]
    },
    {
     "name": "stderr",
     "output_type": "stream",
     "text": [
      "Epoch 41/80 [Train]: 100%|██████████| 457/457 [00:28<00:00, 15.79it/s, acc=99.8, loss=0.00606]\n",
      "Epoch 41/80 [Val]: 100%|██████████| 57/57 [00:02<00:00, 25.77it/s, acc=82.5, loss=1.54]\n"
     ]
    },
    {
     "name": "stdout",
     "output_type": "stream",
     "text": [
      "\n",
      "Epoch 41/80\n",
      "Train Loss: 0.0061, Train Acc: 99.79%\n",
      "Val Loss: 1.5400, Val Acc: 82.52%\n",
      "Val Precision: 0.8267, Val Recall: 0.8252, Val F1: 0.8231\n"
     ]
    },
    {
     "name": "stderr",
     "output_type": "stream",
     "text": [
      "Epoch 42/80 [Train]: 100%|██████████| 457/457 [00:28<00:00, 15.78it/s, acc=99.8, loss=0.00689]\n",
      "Epoch 42/80 [Val]: 100%|██████████| 57/57 [00:02<00:00, 24.81it/s, acc=82.6, loss=1.56]\n"
     ]
    },
    {
     "name": "stdout",
     "output_type": "stream",
     "text": [
      "\n",
      "Epoch 42/80\n",
      "Train Loss: 0.0069, Train Acc: 99.76%\n",
      "Val Loss: 1.5607, Val Acc: 82.58%\n",
      "Val Precision: 0.8266, Val Recall: 0.8258, Val F1: 0.8234\n"
     ]
    },
    {
     "name": "stderr",
     "output_type": "stream",
     "text": [
      "Epoch 43/80 [Train]: 100%|██████████| 457/457 [00:29<00:00, 15.75it/s, acc=99.7, loss=0.00822]\n",
      "Epoch 43/80 [Val]: 100%|██████████| 57/57 [00:02<00:00, 25.51it/s, acc=82.7, loss=1.47]\n"
     ]
    },
    {
     "name": "stdout",
     "output_type": "stream",
     "text": [
      "\n",
      "Epoch 43/80\n",
      "Train Loss: 0.0082, Train Acc: 99.73%\n",
      "Val Loss: 1.4701, Val Acc: 82.72%\n",
      "Val Precision: 0.8257, Val Recall: 0.8272, Val F1: 0.8255\n"
     ]
    },
    {
     "name": "stderr",
     "output_type": "stream",
     "text": [
      "Epoch 44/80 [Train]: 100%|██████████| 457/457 [00:28<00:00, 15.82it/s, acc=99.8, loss=0.00639]\n",
      "Epoch 44/80 [Val]: 100%|██████████| 57/57 [00:02<00:00, 24.99it/s, acc=82.6, loss=1.53]\n"
     ]
    },
    {
     "name": "stdout",
     "output_type": "stream",
     "text": [
      "\n",
      "Epoch 44/80\n",
      "Train Loss: 0.0064, Train Acc: 99.79%\n",
      "Val Loss: 1.5251, Val Acc: 82.58%\n",
      "Val Precision: 0.8255, Val Recall: 0.8258, Val F1: 0.8239\n"
     ]
    },
    {
     "name": "stderr",
     "output_type": "stream",
     "text": [
      "Epoch 45/80 [Train]: 100%|██████████| 457/457 [00:28<00:00, 15.84it/s, acc=99.8, loss=0.00663]\n",
      "Epoch 45/80 [Val]: 100%|██████████| 57/57 [00:02<00:00, 26.37it/s, acc=82.8, loss=1.51]\n"
     ]
    },
    {
     "name": "stdout",
     "output_type": "stream",
     "text": [
      "\n",
      "Epoch 45/80\n",
      "Train Loss: 0.0066, Train Acc: 99.77%\n",
      "Val Loss: 1.5119, Val Acc: 82.83%\n",
      "Val Precision: 0.8275, Val Recall: 0.8283, Val F1: 0.8269\n"
     ]
    },
    {
     "name": "stderr",
     "output_type": "stream",
     "text": [
      "Epoch 46/80 [Train]: 100%|██████████| 457/457 [00:28<00:00, 15.90it/s, acc=99.8, loss=0.00698]\n",
      "Epoch 46/80 [Val]: 100%|██████████| 57/57 [00:02<00:00, 22.79it/s, acc=82.7, loss=1.5]\n"
     ]
    },
    {
     "name": "stdout",
     "output_type": "stream",
     "text": [
      "\n",
      "Epoch 46/80\n",
      "Train Loss: 0.0070, Train Acc: 99.81%\n",
      "Val Loss: 1.4960, Val Acc: 82.72%\n",
      "Val Precision: 0.8265, Val Recall: 0.8272, Val F1: 0.8252\n"
     ]
    },
    {
     "name": "stderr",
     "output_type": "stream",
     "text": [
      "Epoch 47/80 [Train]: 100%|██████████| 457/457 [00:28<00:00, 15.89it/s, acc=99.8, loss=0.00525]\n",
      "Epoch 47/80 [Val]: 100%|██████████| 57/57 [00:02<00:00, 24.30it/s, acc=83.2, loss=1.53]\n"
     ]
    },
    {
     "name": "stdout",
     "output_type": "stream",
     "text": [
      "\n",
      "Epoch 47/80\n",
      "Train Loss: 0.0052, Train Acc: 99.81%\n",
      "Val Loss: 1.5270, Val Acc: 83.24%\n",
      "Val Precision: 0.8323, Val Recall: 0.8324, Val F1: 0.8306\n",
      "Best model saved with Val F1: 0.8306 at /kaggle/working/best_emotion_model.pth\n"
     ]
    },
    {
     "name": "stderr",
     "output_type": "stream",
     "text": [
      "Epoch 48/80 [Train]: 100%|██████████| 457/457 [00:28<00:00, 15.87it/s, acc=99.9, loss=0.00475]\n",
      "Epoch 48/80 [Val]: 100%|██████████| 57/57 [00:02<00:00, 23.38it/s, acc=82.9, loss=1.55]\n"
     ]
    },
    {
     "name": "stdout",
     "output_type": "stream",
     "text": [
      "\n",
      "Epoch 48/80\n",
      "Train Loss: 0.0047, Train Acc: 99.85%\n",
      "Val Loss: 1.5542, Val Acc: 82.91%\n",
      "Val Precision: 0.8287, Val Recall: 0.8291, Val F1: 0.8272\n"
     ]
    },
    {
     "name": "stderr",
     "output_type": "stream",
     "text": [
      "Epoch 49/80 [Train]: 100%|██████████| 457/457 [00:28<00:00, 15.90it/s, acc=99.9, loss=0.00447]\n",
      "Epoch 49/80 [Val]: 100%|██████████| 57/57 [00:02<00:00, 24.10it/s, acc=82.8, loss=1.6]\n"
     ]
    },
    {
     "name": "stdout",
     "output_type": "stream",
     "text": [
      "\n",
      "Epoch 49/80\n",
      "Train Loss: 0.0045, Train Acc: 99.86%\n",
      "Val Loss: 1.5995, Val Acc: 82.77%\n",
      "Val Precision: 0.8277, Val Recall: 0.8277, Val F1: 0.8256\n"
     ]
    },
    {
     "name": "stderr",
     "output_type": "stream",
     "text": [
      "Epoch 50/80 [Train]: 100%|██████████| 457/457 [00:28<00:00, 15.88it/s, acc=99.9, loss=0.00385]\n",
      "Epoch 50/80 [Val]: 100%|██████████| 57/57 [00:02<00:00, 22.43it/s, acc=82.9, loss=1.63]\n"
     ]
    },
    {
     "name": "stdout",
     "output_type": "stream",
     "text": [
      "\n",
      "Epoch 50/80\n",
      "Train Loss: 0.0039, Train Acc: 99.89%\n",
      "Val Loss: 1.6295, Val Acc: 82.86%\n",
      "Val Precision: 0.8291, Val Recall: 0.8286, Val F1: 0.8265\n"
     ]
    },
    {
     "name": "stderr",
     "output_type": "stream",
     "text": [
      "Epoch 51/80 [Train]: 100%|██████████| 457/457 [00:28<00:00, 15.87it/s, acc=99.9, loss=0.00442]\n",
      "Epoch 51/80 [Val]: 100%|██████████| 57/57 [00:02<00:00, 24.16it/s, acc=83, loss=1.66]\n"
     ]
    },
    {
     "name": "stdout",
     "output_type": "stream",
     "text": [
      "\n",
      "Epoch 51/80\n",
      "Train Loss: 0.0044, Train Acc: 99.86%\n",
      "Val Loss: 1.6573, Val Acc: 83.02%\n",
      "Val Precision: 0.8317, Val Recall: 0.8302, Val F1: 0.8283\n"
     ]
    },
    {
     "name": "stderr",
     "output_type": "stream",
     "text": [
      "Epoch 52/80 [Train]: 100%|██████████| 457/457 [00:28<00:00, 15.88it/s, acc=99.9, loss=0.0035]\n",
      "Epoch 52/80 [Val]: 100%|██████████| 57/57 [00:02<00:00, 24.99it/s, acc=82.8, loss=1.64]\n"
     ]
    },
    {
     "name": "stdout",
     "output_type": "stream",
     "text": [
      "\n",
      "Epoch 52/80\n",
      "Train Loss: 0.0035, Train Acc: 99.88%\n",
      "Val Loss: 1.6390, Val Acc: 82.83%\n",
      "Val Precision: 0.8283, Val Recall: 0.8283, Val F1: 0.8267\n"
     ]
    },
    {
     "name": "stderr",
     "output_type": "stream",
     "text": [
      "Epoch 53/80 [Train]: 100%|██████████| 457/457 [00:28<00:00, 15.89it/s, acc=99.9, loss=0.00383]\n",
      "Epoch 53/80 [Val]: 100%|██████████| 57/57 [00:02<00:00, 24.08it/s, acc=82.7, loss=1.66]\n"
     ]
    },
    {
     "name": "stdout",
     "output_type": "stream",
     "text": [
      "\n",
      "Epoch 53/80\n",
      "Train Loss: 0.0038, Train Acc: 99.89%\n",
      "Val Loss: 1.6565, Val Acc: 82.75%\n",
      "Val Precision: 0.8272, Val Recall: 0.8275, Val F1: 0.8256\n"
     ]
    },
    {
     "name": "stderr",
     "output_type": "stream",
     "text": [
      "Epoch 54/80 [Train]: 100%|██████████| 457/457 [00:28<00:00, 15.89it/s, acc=99.9, loss=0.00281]\n",
      "Epoch 54/80 [Val]: 100%|██████████| 57/57 [00:02<00:00, 24.79it/s, acc=82.8, loss=1.7]\n"
     ]
    },
    {
     "name": "stdout",
     "output_type": "stream",
     "text": [
      "\n",
      "Epoch 54/80\n",
      "Train Loss: 0.0028, Train Acc: 99.91%\n",
      "Val Loss: 1.7048, Val Acc: 82.83%\n",
      "Val Precision: 0.8284, Val Recall: 0.8283, Val F1: 0.8266\n"
     ]
    },
    {
     "name": "stderr",
     "output_type": "stream",
     "text": [
      "Epoch 55/80 [Train]: 100%|██████████| 457/457 [00:28<00:00, 15.79it/s, acc=99.9, loss=0.00311]\n",
      "Epoch 55/80 [Val]: 100%|██████████| 57/57 [00:02<00:00, 24.55it/s, acc=83.1, loss=1.73]\n"
     ]
    },
    {
     "name": "stdout",
     "output_type": "stream",
     "text": [
      "\n",
      "Epoch 55/80\n",
      "Train Loss: 0.0031, Train Acc: 99.90%\n",
      "Val Loss: 1.7265, Val Acc: 83.10%\n",
      "Val Precision: 0.8317, Val Recall: 0.8310, Val F1: 0.8291\n"
     ]
    },
    {
     "name": "stderr",
     "output_type": "stream",
     "text": [
      "Epoch 56/80 [Train]: 100%|██████████| 457/457 [00:28<00:00, 15.80it/s, acc=99.9, loss=0.00361]\n",
      "Epoch 56/80 [Val]: 100%|██████████| 57/57 [00:02<00:00, 24.78it/s, acc=83, loss=1.74]\n"
     ]
    },
    {
     "name": "stdout",
     "output_type": "stream",
     "text": [
      "\n",
      "Epoch 56/80\n",
      "Train Loss: 0.0036, Train Acc: 99.90%\n",
      "Val Loss: 1.7418, Val Acc: 83.02%\n",
      "Val Precision: 0.8307, Val Recall: 0.8302, Val F1: 0.8281\n"
     ]
    },
    {
     "name": "stderr",
     "output_type": "stream",
     "text": [
      "Epoch 57/80 [Train]: 100%|██████████| 457/457 [00:28<00:00, 15.81it/s, acc=99.9, loss=0.00179]\n",
      "Epoch 57/80 [Val]: 100%|██████████| 57/57 [00:02<00:00, 24.34it/s, acc=83, loss=1.73]\n"
     ]
    },
    {
     "name": "stdout",
     "output_type": "stream",
     "text": [
      "\n",
      "Epoch 57/80\n",
      "Train Loss: 0.0018, Train Acc: 99.94%\n",
      "Val Loss: 1.7289, Val Acc: 83.05%\n",
      "Val Precision: 0.8309, Val Recall: 0.8305, Val F1: 0.8289\n"
     ]
    },
    {
     "name": "stderr",
     "output_type": "stream",
     "text": [
      "Epoch 58/80 [Train]: 100%|██████████| 457/457 [00:28<00:00, 15.81it/s, acc=99.9, loss=0.00291]\n",
      "Epoch 58/80 [Val]: 100%|██████████| 57/57 [00:02<00:00, 24.85it/s, acc=83.1, loss=1.75]\n"
     ]
    },
    {
     "name": "stdout",
     "output_type": "stream",
     "text": [
      "\n",
      "Epoch 58/80\n",
      "Train Loss: 0.0029, Train Acc: 99.92%\n",
      "Val Loss: 1.7457, Val Acc: 83.10%\n",
      "Val Precision: 0.8312, Val Recall: 0.8310, Val F1: 0.8291\n"
     ]
    },
    {
     "name": "stderr",
     "output_type": "stream",
     "text": [
      "Epoch 59/80 [Train]: 100%|██████████| 457/457 [00:28<00:00, 15.85it/s, acc=99.9, loss=0.00275]\n",
      "Epoch 59/80 [Val]: 100%|██████████| 57/57 [00:02<00:00, 24.38it/s, acc=82.9, loss=1.75]\n"
     ]
    },
    {
     "name": "stdout",
     "output_type": "stream",
     "text": [
      "\n",
      "Epoch 59/80\n",
      "Train Loss: 0.0027, Train Acc: 99.91%\n",
      "Val Loss: 1.7464, Val Acc: 82.94%\n",
      "Val Precision: 0.8301, Val Recall: 0.8294, Val F1: 0.8280\n"
     ]
    },
    {
     "name": "stderr",
     "output_type": "stream",
     "text": [
      "Epoch 60/80 [Train]: 100%|██████████| 457/457 [00:28<00:00, 15.87it/s, acc=99.9, loss=0.00223]\n",
      "Epoch 60/80 [Val]: 100%|██████████| 57/57 [00:02<00:00, 25.17it/s, acc=82.9, loss=1.76]\n"
     ]
    },
    {
     "name": "stdout",
     "output_type": "stream",
     "text": [
      "\n",
      "Epoch 60/80\n",
      "Train Loss: 0.0022, Train Acc: 99.94%\n",
      "Val Loss: 1.7574, Val Acc: 82.91%\n",
      "Val Precision: 0.8292, Val Recall: 0.8291, Val F1: 0.8275\n"
     ]
    },
    {
     "name": "stderr",
     "output_type": "stream",
     "text": [
      "Epoch 61/80 [Train]: 100%|██████████| 457/457 [00:28<00:00, 15.88it/s, acc=99.9, loss=0.00203]\n",
      "Epoch 61/80 [Val]: 100%|██████████| 57/57 [00:02<00:00, 25.21it/s, acc=83, loss=1.79]\n"
     ]
    },
    {
     "name": "stdout",
     "output_type": "stream",
     "text": [
      "\n",
      "Epoch 61/80\n",
      "Train Loss: 0.0020, Train Acc: 99.93%\n",
      "Val Loss: 1.7899, Val Acc: 83.05%\n",
      "Val Precision: 0.8308, Val Recall: 0.8305, Val F1: 0.8286\n"
     ]
    },
    {
     "name": "stderr",
     "output_type": "stream",
     "text": [
      "Epoch 62/80 [Train]: 100%|██████████| 457/457 [00:28<00:00, 15.85it/s, acc=99.9, loss=0.0027]\n",
      "Epoch 62/80 [Val]: 100%|██████████| 57/57 [00:02<00:00, 24.95it/s, acc=82.9, loss=1.78]\n"
     ]
    },
    {
     "name": "stdout",
     "output_type": "stream",
     "text": [
      "\n",
      "Epoch 62/80\n",
      "Train Loss: 0.0027, Train Acc: 99.92%\n",
      "Val Loss: 1.7818, Val Acc: 82.88%\n",
      "Val Precision: 0.8295, Val Recall: 0.8288, Val F1: 0.8272\n"
     ]
    },
    {
     "name": "stderr",
     "output_type": "stream",
     "text": [
      "Epoch 63/80 [Train]: 100%|██████████| 457/457 [00:28<00:00, 15.82it/s, acc=99.9, loss=0.00255]\n",
      "Epoch 63/80 [Val]: 100%|██████████| 57/57 [00:02<00:00, 24.27it/s, acc=83.1, loss=1.78]\n"
     ]
    },
    {
     "name": "stdout",
     "output_type": "stream",
     "text": [
      "\n",
      "Epoch 63/80\n",
      "Train Loss: 0.0026, Train Acc: 99.92%\n",
      "Val Loss: 1.7808, Val Acc: 83.08%\n",
      "Val Precision: 0.8311, Val Recall: 0.8308, Val F1: 0.8291\n"
     ]
    },
    {
     "name": "stderr",
     "output_type": "stream",
     "text": [
      "Epoch 64/80 [Train]: 100%|██████████| 457/457 [00:28<00:00, 15.87it/s, acc=99.9, loss=0.00199]\n",
      "Epoch 64/80 [Val]: 100%|██████████| 57/57 [00:02<00:00, 26.13it/s, acc=83.1, loss=1.81]\n"
     ]
    },
    {
     "name": "stdout",
     "output_type": "stream",
     "text": [
      "\n",
      "Epoch 64/80\n",
      "Train Loss: 0.0020, Train Acc: 99.94%\n",
      "Val Loss: 1.8142, Val Acc: 83.08%\n",
      "Val Precision: 0.8313, Val Recall: 0.8308, Val F1: 0.8290\n"
     ]
    },
    {
     "name": "stderr",
     "output_type": "stream",
     "text": [
      "Epoch 65/80 [Train]: 100%|██████████| 457/457 [00:28<00:00, 15.89it/s, acc=99.9, loss=0.00142]\n",
      "Epoch 65/80 [Val]: 100%|██████████| 57/57 [00:02<00:00, 25.31it/s, acc=83, loss=1.83]\n"
     ]
    },
    {
     "name": "stdout",
     "output_type": "stream",
     "text": [
      "\n",
      "Epoch 65/80\n",
      "Train Loss: 0.0014, Train Acc: 99.94%\n",
      "Val Loss: 1.8258, Val Acc: 83.05%\n",
      "Val Precision: 0.8311, Val Recall: 0.8305, Val F1: 0.8288\n"
     ]
    },
    {
     "name": "stderr",
     "output_type": "stream",
     "text": [
      "Epoch 66/80 [Train]: 100%|██████████| 457/457 [00:28<00:00, 15.86it/s, acc=99.9, loss=0.00221]\n",
      "Epoch 66/80 [Val]: 100%|██████████| 57/57 [00:02<00:00, 26.27it/s, acc=82.9, loss=1.81]\n"
     ]
    },
    {
     "name": "stdout",
     "output_type": "stream",
     "text": [
      "\n",
      "Epoch 66/80\n",
      "Train Loss: 0.0022, Train Acc: 99.94%\n",
      "Val Loss: 1.8123, Val Acc: 82.88%\n",
      "Val Precision: 0.8286, Val Recall: 0.8288, Val F1: 0.8272\n"
     ]
    },
    {
     "name": "stderr",
     "output_type": "stream",
     "text": [
      "Epoch 67/80 [Train]: 100%|██████████| 457/457 [00:28<00:00, 15.88it/s, acc=99.9, loss=0.00224]\n",
      "Epoch 67/80 [Val]: 100%|██████████| 57/57 [00:02<00:00, 25.75it/s, acc=83, loss=1.84]\n"
     ]
    },
    {
     "name": "stdout",
     "output_type": "stream",
     "text": [
      "\n",
      "Epoch 67/80\n",
      "Train Loss: 0.0022, Train Acc: 99.92%\n",
      "Val Loss: 1.8409, Val Acc: 82.97%\n",
      "Val Precision: 0.8303, Val Recall: 0.8297, Val F1: 0.8281\n"
     ]
    },
    {
     "name": "stderr",
     "output_type": "stream",
     "text": [
      "Epoch 68/80 [Train]: 100%|██████████| 457/457 [00:28<00:00, 15.88it/s, acc=100, loss=0.0013]\n",
      "Epoch 68/80 [Val]: 100%|██████████| 57/57 [00:02<00:00, 24.54it/s, acc=83, loss=1.85]\n"
     ]
    },
    {
     "name": "stdout",
     "output_type": "stream",
     "text": [
      "\n",
      "Epoch 68/80\n",
      "Train Loss: 0.0013, Train Acc: 99.97%\n",
      "Val Loss: 1.8536, Val Acc: 82.97%\n",
      "Val Precision: 0.8302, Val Recall: 0.8297, Val F1: 0.8281\n"
     ]
    },
    {
     "name": "stderr",
     "output_type": "stream",
     "text": [
      "Epoch 69/80 [Train]: 100%|██████████| 457/457 [00:28<00:00, 15.88it/s, acc=99.9, loss=0.0018]\n",
      "Epoch 69/80 [Val]: 100%|██████████| 57/57 [00:02<00:00, 23.99it/s, acc=83.1, loss=1.85]\n"
     ]
    },
    {
     "name": "stdout",
     "output_type": "stream",
     "text": [
      "\n",
      "Epoch 69/80\n",
      "Train Loss: 0.0018, Train Acc: 99.94%\n",
      "Val Loss: 1.8533, Val Acc: 83.13%\n",
      "Val Precision: 0.8317, Val Recall: 0.8313, Val F1: 0.8298\n"
     ]
    },
    {
     "name": "stderr",
     "output_type": "stream",
     "text": [
      "Epoch 70/80 [Train]: 100%|██████████| 457/457 [00:28<00:00, 15.87it/s, acc=99.9, loss=0.00145]\n",
      "Epoch 70/80 [Val]: 100%|██████████| 57/57 [00:02<00:00, 25.08it/s, acc=83.1, loss=1.87]\n"
     ]
    },
    {
     "name": "stdout",
     "output_type": "stream",
     "text": [
      "\n",
      "Epoch 70/80\n",
      "Train Loss: 0.0014, Train Acc: 99.94%\n",
      "Val Loss: 1.8691, Val Acc: 83.10%\n",
      "Val Precision: 0.8314, Val Recall: 0.8310, Val F1: 0.8294\n"
     ]
    },
    {
     "name": "stderr",
     "output_type": "stream",
     "text": [
      "Epoch 71/80 [Train]: 100%|██████████| 457/457 [00:28<00:00, 15.89it/s, acc=99.9, loss=0.00169]\n",
      "Epoch 71/80 [Val]: 100%|██████████| 57/57 [00:02<00:00, 22.95it/s, acc=83, loss=1.87]\n"
     ]
    },
    {
     "name": "stdout",
     "output_type": "stream",
     "text": [
      "\n",
      "Epoch 71/80\n",
      "Train Loss: 0.0017, Train Acc: 99.94%\n",
      "Val Loss: 1.8676, Val Acc: 83.02%\n",
      "Val Precision: 0.8305, Val Recall: 0.8302, Val F1: 0.8285\n"
     ]
    },
    {
     "name": "stderr",
     "output_type": "stream",
     "text": [
      "Epoch 72/80 [Train]: 100%|██████████| 457/457 [00:28<00:00, 15.86it/s, acc=99.9, loss=0.00171]\n",
      "Epoch 72/80 [Val]: 100%|██████████| 57/57 [00:02<00:00, 24.37it/s, acc=83.1, loss=1.87]\n"
     ]
    },
    {
     "name": "stdout",
     "output_type": "stream",
     "text": [
      "\n",
      "Epoch 72/80\n",
      "Train Loss: 0.0017, Train Acc: 99.95%\n",
      "Val Loss: 1.8712, Val Acc: 83.13%\n",
      "Val Precision: 0.8318, Val Recall: 0.8313, Val F1: 0.8297\n"
     ]
    },
    {
     "name": "stderr",
     "output_type": "stream",
     "text": [
      "Epoch 73/80 [Train]: 100%|██████████| 457/457 [00:28<00:00, 15.84it/s, acc=100, loss=0.00176]\n",
      "Epoch 73/80 [Val]: 100%|██████████| 57/57 [00:02<00:00, 25.04it/s, acc=83.1, loss=1.88]\n"
     ]
    },
    {
     "name": "stdout",
     "output_type": "stream",
     "text": [
      "\n",
      "Epoch 73/80\n",
      "Train Loss: 0.0018, Train Acc: 99.96%\n",
      "Val Loss: 1.8815, Val Acc: 83.13%\n",
      "Val Precision: 0.8318, Val Recall: 0.8313, Val F1: 0.8295\n"
     ]
    },
    {
     "name": "stderr",
     "output_type": "stream",
     "text": [
      "Epoch 74/80 [Train]: 100%|██████████| 457/457 [00:28<00:00, 15.87it/s, acc=100, loss=0.00146]\n",
      "Epoch 74/80 [Val]: 100%|██████████| 57/57 [00:02<00:00, 25.82it/s, acc=83, loss=1.88]\n"
     ]
    },
    {
     "name": "stdout",
     "output_type": "stream",
     "text": [
      "\n",
      "Epoch 74/80\n",
      "Train Loss: 0.0015, Train Acc: 99.95%\n",
      "Val Loss: 1.8812, Val Acc: 83.05%\n",
      "Val Precision: 0.8310, Val Recall: 0.8305, Val F1: 0.8288\n"
     ]
    },
    {
     "name": "stderr",
     "output_type": "stream",
     "text": [
      "Epoch 75/80 [Train]: 100%|██████████| 457/457 [00:28<00:00, 15.88it/s, acc=99.9, loss=0.00189]\n",
      "Epoch 75/80 [Val]: 100%|██████████| 57/57 [00:02<00:00, 24.97it/s, acc=83.2, loss=1.87]\n"
     ]
    },
    {
     "name": "stdout",
     "output_type": "stream",
     "text": [
      "\n",
      "Epoch 75/80\n",
      "Train Loss: 0.0019, Train Acc: 99.94%\n",
      "Val Loss: 1.8741, Val Acc: 83.16%\n",
      "Val Precision: 0.8319, Val Recall: 0.8316, Val F1: 0.8300\n"
     ]
    },
    {
     "name": "stderr",
     "output_type": "stream",
     "text": [
      "Epoch 76/80 [Train]: 100%|██████████| 457/457 [00:28<00:00, 15.87it/s, acc=99.9, loss=0.00171]\n",
      "Epoch 76/80 [Val]: 100%|██████████| 57/57 [00:02<00:00, 25.62it/s, acc=83, loss=1.88]\n"
     ]
    },
    {
     "name": "stdout",
     "output_type": "stream",
     "text": [
      "\n",
      "Epoch 76/80\n",
      "Train Loss: 0.0017, Train Acc: 99.95%\n",
      "Val Loss: 1.8775, Val Acc: 82.99%\n",
      "Val Precision: 0.8304, Val Recall: 0.8299, Val F1: 0.8282\n"
     ]
    },
    {
     "name": "stderr",
     "output_type": "stream",
     "text": [
      "Epoch 77/80 [Train]: 100%|██████████| 457/457 [00:28<00:00, 15.88it/s, acc=100, loss=0.00119]\n",
      "Epoch 77/80 [Val]: 100%|██████████| 57/57 [00:02<00:00, 24.23it/s, acc=83, loss=1.88]\n"
     ]
    },
    {
     "name": "stdout",
     "output_type": "stream",
     "text": [
      "\n",
      "Epoch 77/80\n",
      "Train Loss: 0.0012, Train Acc: 99.96%\n",
      "Val Loss: 1.8784, Val Acc: 83.02%\n",
      "Val Precision: 0.8303, Val Recall: 0.8302, Val F1: 0.8284\n"
     ]
    },
    {
     "name": "stderr",
     "output_type": "stream",
     "text": [
      "Epoch 78/80 [Train]: 100%|██████████| 457/457 [00:28<00:00, 15.86it/s, acc=99.9, loss=0.0015]\n",
      "Epoch 78/80 [Val]: 100%|██████████| 57/57 [00:02<00:00, 24.69it/s, acc=83.2, loss=1.88]\n"
     ]
    },
    {
     "name": "stdout",
     "output_type": "stream",
     "text": [
      "\n",
      "Epoch 78/80\n",
      "Train Loss: 0.0015, Train Acc: 99.95%\n",
      "Val Loss: 1.8765, Val Acc: 83.16%\n",
      "Val Precision: 0.8317, Val Recall: 0.8316, Val F1: 0.8299\n"
     ]
    },
    {
     "name": "stderr",
     "output_type": "stream",
     "text": [
      "Epoch 79/80 [Train]: 100%|██████████| 457/457 [00:28<00:00, 15.86it/s, acc=99.9, loss=0.00253]\n",
      "Epoch 79/80 [Val]: 100%|██████████| 57/57 [00:02<00:00, 25.20it/s, acc=83.2, loss=1.88]\n"
     ]
    },
    {
     "name": "stdout",
     "output_type": "stream",
     "text": [
      "\n",
      "Epoch 79/80\n",
      "Train Loss: 0.0025, Train Acc: 99.92%\n",
      "Val Loss: 1.8802, Val Acc: 83.16%\n",
      "Val Precision: 0.8319, Val Recall: 0.8316, Val F1: 0.8300\n"
     ]
    },
    {
     "name": "stderr",
     "output_type": "stream",
     "text": [
      "Epoch 80/80 [Train]: 100%|██████████| 457/457 [00:28<00:00, 15.87it/s, acc=100, loss=0.00146]\n",
      "Epoch 80/80 [Val]: 100%|██████████| 57/57 [00:02<00:00, 24.59it/s, acc=83.2, loss=1.88]\n"
     ]
    },
    {
     "name": "stdout",
     "output_type": "stream",
     "text": [
      "\n",
      "Epoch 80/80\n",
      "Train Loss: 0.0015, Train Acc: 99.96%\n",
      "Val Loss: 1.8840, Val Acc: 83.16%\n",
      "Val Precision: 0.8319, Val Recall: 0.8316, Val F1: 0.8300\n",
      "Final model saved at /kaggle/working/best_emotion_model_final.pth\n",
      "Testing\n"
     ]
    },
    {
     "name": "stderr",
     "output_type": "stream",
     "text": [
      "Testing: 100%|██████████| 57/57 [00:05<00:00, 10.03it/s, acc=82.9, loss=1.44]\n"
     ]
    },
    {
     "name": "stdout",
     "output_type": "stream",
     "text": [
      "\n",
      "Test Loss: 1.4380, Test Acc: 82.86%\n",
      "Test Precision: 0.8298, Test Recall: 0.8286, Test F1: 0.8267\n"
     ]
    },
    {
     "data": {
      "image/png": "[encoded data removed]",
      "text/plain": [
       "<Figure size 1000x500 with 1 Axes>"
      ]
     },
     "metadata": {},
     "output_type": "display_data"
    },
    {
     "data": {
      "image/png": "[encoded data removed]",
      "text/plain": [
       "<Figure size 1000x500 with 1 Axes>"
      ]
     },
     "metadata": {},
     "output_type": "display_data"
    },
    {
     "data": {
      "image/png": "[encoded data removed]",
      "text/plain": [
       "<Figure size 600x500 with 2 Axes>"
      ]
     },
     "metadata": {},
     "output_type": "display_data"
    },
    {
     "name": "stdout",
     "output_type": "stream",
     "text": [
      "\n",
      "Classification Report:\n",
      "              precision    recall  f1-score   support\n",
      "\n",
      "           0       0.78      0.69      0.73       409\n",
      "           1       0.98      0.99      0.99       499\n",
      "           2       0.77      0.66      0.71       317\n",
      "           3       0.89      0.91      0.90       815\n",
      "           4       0.79      0.68      0.73       551\n",
      "           5       0.85      0.86      0.86       380\n",
      "           6       0.72      0.87      0.79       657\n",
      "\n",
      "    accuracy                           0.83      3628\n",
      "   macro avg       0.83      0.81      0.82      3628\n",
      "weighted avg       0.83      0.83      0.83      3628\n",
      "\n"
     ]
    }
   ],
   "source": [
    "# Config\n",
    "root_dir = \"/kaggle/input/dr-fatma-mazen/FER+\"\n",
    "batch_size = 64\n",
    "num_classes = 8\n",
    "num_epochs = 80\n",
    "device = torch.device(\"cuda\" if torch.cuda.is_available() else \"cpu\")\n",
    "save_path = \"/kaggle/working/best_emotion_model.pth\"\n",
    "\n",
    "# Data setup\n",
    "data_module = FERPlusImageFolderDataModule(root_dir, batch_size)\n",
    "data_module.setup()\n",
    "\n",
    "train_loader = data_module.train_dataloader()\n",
    "val_loader = data_module.val_dataloader()\n",
    "test_loader = data_module.test_dataloader()\n",
    "\n",
    "\n",
    "\n",
    "model = EmotionDetectorVGGFace(num_classes=num_classes)\n",
    "\n",
    "\n",
    "original_train_dataset = data_module.train_dataset\n",
    "\n",
    "history = train_model(model, train_loader, val_loader, num_epochs, device, save_path,\n",
    "                      lr=0.0001, train_dataset=original_train_dataset)\n",
    "\n",
    "\n",
    "\n",
    "original_test_dataset = data_module.test_dataset\n",
    "test_loss, test_acc, precision, recall, f1, all_preds, all_labels = test_model(\n",
    "    model, test_loader, device, test_dataset=original_test_dataset\n",
    ")\n",
    "\n",
    "\n",
    "plot_loss_curve(history['train_loss'], history['val_loss'])\n",
    "plot_accuracy_curve(history['train_acc'], history['val_acc'])\n",
    "\n",
    "class_names = data_module.train_dataset.classes\n",
    "plot_confusion_matrix(all_labels, all_preds, class_names)\n",
    "torch.save(model, \"/kaggle/working/emotion_model_full.pt\")\n"
   ]
  }
 ],
 "metadata": {
  "kaggle": {
   "accelerator": "gpu",
   "dataSources": [
    {
     "datasetId": 7888831,
     "sourceId": 12499722,
     "sourceType": "datasetVersion"
    },
    {
     "datasetId": 7894792,
     "sourceId": 12508237,
     "sourceType": "datasetVersion"
    }
   ],
   "dockerImageVersionId": 31090,
   "isGpuEnabled": true,
   "isInternetEnabled": true,
   "language": "python",
   "sourceType": "notebook"
  },
  "kernelspec": {
   "display_name": "Python 3",
   "language": "python",
   "name": "python3"
  },
  "language_info": {
   "codemirror_mode": {
    "name": "ipython",
    "version": 3
   },
   "file_extension": ".py",
   "mimetype": "text/x-python",
   "name": "python",
   "nbconvert_exporter": "python",
   "pygments_lexer": "ipython3",
   "version": "3.11.13"
  },
  "papermill": {
   "default_parameters": {},
   "duration": 2614.791081,
   "end_time": "2025-07-18T15:20:20.399884",
   "environment_variables": {},
   "exception": null,
   "input_path": "__notebook__.ipynb",
   "output_path": "__notebook__.ipynb",
   "parameters": {},
   "start_time": "2025-07-18T14:36:45.608803",
   "version": "2.6.0"
  }
 },
 "nbformat": 4,
 "nbformat_minor": 5
}
